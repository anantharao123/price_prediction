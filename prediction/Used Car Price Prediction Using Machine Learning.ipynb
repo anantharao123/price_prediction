{
 "cells": [
  {
   "cell_type": "code",
   "execution_count": 1,
   "metadata": {},
   "outputs": [],
   "source": [
    "import warnings"
   ]
  },
  {
   "cell_type": "code",
   "execution_count": 2,
   "metadata": {},
   "outputs": [],
   "source": [
    "warnings.filterwarnings('ignore')"
   ]
  },
  {
   "cell_type": "code",
   "execution_count": 3,
   "metadata": {},
   "outputs": [],
   "source": [
    "import pandas as pd"
   ]
  },
  {
   "cell_type": "code",
   "execution_count": 4,
   "metadata": {},
   "outputs": [],
   "source": [
    "data = pd.read_csv('Cardetails.csv')"
   ]
  },
  {
   "cell_type": "markdown",
   "metadata": {},
   "source": [
    "### 1. Display Top 5 Rows of The Dataset"
   ]
  },
  {
   "cell_type": "code",
   "execution_count": 5,
   "metadata": {},
   "outputs": [
    {
     "data": {
      "text/html": [
       "<div>\n",
       "<style scoped>\n",
       "    .dataframe tbody tr th:only-of-type {\n",
       "        vertical-align: middle;\n",
       "    }\n",
       "\n",
       "    .dataframe tbody tr th {\n",
       "        vertical-align: top;\n",
       "    }\n",
       "\n",
       "    .dataframe thead th {\n",
       "        text-align: right;\n",
       "    }\n",
       "</style>\n",
       "<table border=\"1\" class=\"dataframe\">\n",
       "  <thead>\n",
       "    <tr style=\"text-align: right;\">\n",
       "      <th></th>\n",
       "      <th>name</th>\n",
       "      <th>year</th>\n",
       "      <th>selling_price</th>\n",
       "      <th>km_driven</th>\n",
       "      <th>fuel</th>\n",
       "      <th>seller_type</th>\n",
       "      <th>transmission</th>\n",
       "      <th>owner</th>\n",
       "      <th>mileage</th>\n",
       "      <th>engine</th>\n",
       "      <th>max_power</th>\n",
       "      <th>torque</th>\n",
       "      <th>seats</th>\n",
       "    </tr>\n",
       "  </thead>\n",
       "  <tbody>\n",
       "    <tr>\n",
       "      <th>0</th>\n",
       "      <td>Maruti Swift Dzire VDI</td>\n",
       "      <td>2014</td>\n",
       "      <td>450000</td>\n",
       "      <td>145500</td>\n",
       "      <td>Diesel</td>\n",
       "      <td>Individual</td>\n",
       "      <td>Manual</td>\n",
       "      <td>First Owner</td>\n",
       "      <td>23.4 kmpl</td>\n",
       "      <td>1248 CC</td>\n",
       "      <td>74 bhp</td>\n",
       "      <td>190Nm@ 2000rpm</td>\n",
       "      <td>5.0</td>\n",
       "    </tr>\n",
       "    <tr>\n",
       "      <th>1</th>\n",
       "      <td>Skoda Rapid 1.5 TDI Ambition</td>\n",
       "      <td>2014</td>\n",
       "      <td>370000</td>\n",
       "      <td>120000</td>\n",
       "      <td>Diesel</td>\n",
       "      <td>Individual</td>\n",
       "      <td>Manual</td>\n",
       "      <td>Second Owner</td>\n",
       "      <td>21.14 kmpl</td>\n",
       "      <td>1498 CC</td>\n",
       "      <td>103.52 bhp</td>\n",
       "      <td>250Nm@ 1500-2500rpm</td>\n",
       "      <td>5.0</td>\n",
       "    </tr>\n",
       "    <tr>\n",
       "      <th>2</th>\n",
       "      <td>Honda City 2017-2020 EXi</td>\n",
       "      <td>2006</td>\n",
       "      <td>158000</td>\n",
       "      <td>140000</td>\n",
       "      <td>Petrol</td>\n",
       "      <td>Individual</td>\n",
       "      <td>Manual</td>\n",
       "      <td>Third Owner</td>\n",
       "      <td>17.7 kmpl</td>\n",
       "      <td>1497 CC</td>\n",
       "      <td>78 bhp</td>\n",
       "      <td>12.7@ 2,700(kgm@ rpm)</td>\n",
       "      <td>5.0</td>\n",
       "    </tr>\n",
       "    <tr>\n",
       "      <th>3</th>\n",
       "      <td>Hyundai i20 Sportz Diesel</td>\n",
       "      <td>2010</td>\n",
       "      <td>225000</td>\n",
       "      <td>127000</td>\n",
       "      <td>Diesel</td>\n",
       "      <td>Individual</td>\n",
       "      <td>Manual</td>\n",
       "      <td>First Owner</td>\n",
       "      <td>23.0 kmpl</td>\n",
       "      <td>1396 CC</td>\n",
       "      <td>90 bhp</td>\n",
       "      <td>22.4 kgm at 1750-2750rpm</td>\n",
       "      <td>5.0</td>\n",
       "    </tr>\n",
       "    <tr>\n",
       "      <th>4</th>\n",
       "      <td>Maruti Swift VXI BSIII</td>\n",
       "      <td>2007</td>\n",
       "      <td>130000</td>\n",
       "      <td>120000</td>\n",
       "      <td>Petrol</td>\n",
       "      <td>Individual</td>\n",
       "      <td>Manual</td>\n",
       "      <td>First Owner</td>\n",
       "      <td>16.1 kmpl</td>\n",
       "      <td>1298 CC</td>\n",
       "      <td>88.2 bhp</td>\n",
       "      <td>11.5@ 4,500(kgm@ rpm)</td>\n",
       "      <td>5.0</td>\n",
       "    </tr>\n",
       "  </tbody>\n",
       "</table>\n",
       "</div>"
      ],
      "text/plain": [
       "                           name  year  selling_price  km_driven    fuel   \n",
       "0        Maruti Swift Dzire VDI  2014         450000     145500  Diesel  \\\n",
       "1  Skoda Rapid 1.5 TDI Ambition  2014         370000     120000  Diesel   \n",
       "2      Honda City 2017-2020 EXi  2006         158000     140000  Petrol   \n",
       "3     Hyundai i20 Sportz Diesel  2010         225000     127000  Diesel   \n",
       "4        Maruti Swift VXI BSIII  2007         130000     120000  Petrol   \n",
       "\n",
       "  seller_type transmission         owner     mileage   engine   max_power   \n",
       "0  Individual       Manual   First Owner   23.4 kmpl  1248 CC      74 bhp  \\\n",
       "1  Individual       Manual  Second Owner  21.14 kmpl  1498 CC  103.52 bhp   \n",
       "2  Individual       Manual   Third Owner   17.7 kmpl  1497 CC      78 bhp   \n",
       "3  Individual       Manual   First Owner   23.0 kmpl  1396 CC      90 bhp   \n",
       "4  Individual       Manual   First Owner   16.1 kmpl  1298 CC    88.2 bhp   \n",
       "\n",
       "                     torque  seats  \n",
       "0            190Nm@ 2000rpm    5.0  \n",
       "1       250Nm@ 1500-2500rpm    5.0  \n",
       "2     12.7@ 2,700(kgm@ rpm)    5.0  \n",
       "3  22.4 kgm at 1750-2750rpm    5.0  \n",
       "4     11.5@ 4,500(kgm@ rpm)    5.0  "
      ]
     },
     "execution_count": 5,
     "metadata": {},
     "output_type": "execute_result"
    }
   ],
   "source": [
    "data.head()"
   ]
  },
  {
   "cell_type": "markdown",
   "metadata": {},
   "source": [
    "### 2. Check Last 5 Rows of The Dataset"
   ]
  },
  {
   "cell_type": "code",
   "execution_count": 6,
   "metadata": {},
   "outputs": [
    {
     "data": {
      "text/html": [
       "<div>\n",
       "<style scoped>\n",
       "    .dataframe tbody tr th:only-of-type {\n",
       "        vertical-align: middle;\n",
       "    }\n",
       "\n",
       "    .dataframe tbody tr th {\n",
       "        vertical-align: top;\n",
       "    }\n",
       "\n",
       "    .dataframe thead th {\n",
       "        text-align: right;\n",
       "    }\n",
       "</style>\n",
       "<table border=\"1\" class=\"dataframe\">\n",
       "  <thead>\n",
       "    <tr style=\"text-align: right;\">\n",
       "      <th></th>\n",
       "      <th>name</th>\n",
       "      <th>year</th>\n",
       "      <th>selling_price</th>\n",
       "      <th>km_driven</th>\n",
       "      <th>fuel</th>\n",
       "      <th>seller_type</th>\n",
       "      <th>transmission</th>\n",
       "      <th>owner</th>\n",
       "      <th>mileage</th>\n",
       "      <th>engine</th>\n",
       "      <th>max_power</th>\n",
       "      <th>torque</th>\n",
       "      <th>seats</th>\n",
       "    </tr>\n",
       "  </thead>\n",
       "  <tbody>\n",
       "    <tr>\n",
       "      <th>8123</th>\n",
       "      <td>Hyundai i20 Magna</td>\n",
       "      <td>2013</td>\n",
       "      <td>320000</td>\n",
       "      <td>110000</td>\n",
       "      <td>Petrol</td>\n",
       "      <td>Individual</td>\n",
       "      <td>Manual</td>\n",
       "      <td>First Owner</td>\n",
       "      <td>18.5 kmpl</td>\n",
       "      <td>1197 CC</td>\n",
       "      <td>82.85 bhp</td>\n",
       "      <td>113.7Nm@ 4000rpm</td>\n",
       "      <td>5.0</td>\n",
       "    </tr>\n",
       "    <tr>\n",
       "      <th>8124</th>\n",
       "      <td>Hyundai Verna CRDi SX</td>\n",
       "      <td>2007</td>\n",
       "      <td>135000</td>\n",
       "      <td>119000</td>\n",
       "      <td>Diesel</td>\n",
       "      <td>Individual</td>\n",
       "      <td>Manual</td>\n",
       "      <td>Fourth &amp; Above Owner</td>\n",
       "      <td>16.8 kmpl</td>\n",
       "      <td>1493 CC</td>\n",
       "      <td>110 bhp</td>\n",
       "      <td>24@ 1,900-2,750(kgm@ rpm)</td>\n",
       "      <td>5.0</td>\n",
       "    </tr>\n",
       "    <tr>\n",
       "      <th>8125</th>\n",
       "      <td>Maruti Swift Dzire ZDi</td>\n",
       "      <td>2009</td>\n",
       "      <td>382000</td>\n",
       "      <td>120000</td>\n",
       "      <td>Diesel</td>\n",
       "      <td>Individual</td>\n",
       "      <td>Manual</td>\n",
       "      <td>First Owner</td>\n",
       "      <td>19.3 kmpl</td>\n",
       "      <td>1248 CC</td>\n",
       "      <td>73.9 bhp</td>\n",
       "      <td>190Nm@ 2000rpm</td>\n",
       "      <td>5.0</td>\n",
       "    </tr>\n",
       "    <tr>\n",
       "      <th>8126</th>\n",
       "      <td>Tata Indigo CR4</td>\n",
       "      <td>2013</td>\n",
       "      <td>290000</td>\n",
       "      <td>25000</td>\n",
       "      <td>Diesel</td>\n",
       "      <td>Individual</td>\n",
       "      <td>Manual</td>\n",
       "      <td>First Owner</td>\n",
       "      <td>23.57 kmpl</td>\n",
       "      <td>1396 CC</td>\n",
       "      <td>70 bhp</td>\n",
       "      <td>140Nm@ 1800-3000rpm</td>\n",
       "      <td>5.0</td>\n",
       "    </tr>\n",
       "    <tr>\n",
       "      <th>8127</th>\n",
       "      <td>Tata Indigo CR4</td>\n",
       "      <td>2013</td>\n",
       "      <td>290000</td>\n",
       "      <td>25000</td>\n",
       "      <td>Diesel</td>\n",
       "      <td>Individual</td>\n",
       "      <td>Manual</td>\n",
       "      <td>First Owner</td>\n",
       "      <td>23.57 kmpl</td>\n",
       "      <td>1396 CC</td>\n",
       "      <td>70 bhp</td>\n",
       "      <td>140Nm@ 1800-3000rpm</td>\n",
       "      <td>5.0</td>\n",
       "    </tr>\n",
       "  </tbody>\n",
       "</table>\n",
       "</div>"
      ],
      "text/plain": [
       "                        name  year  selling_price  km_driven    fuel   \n",
       "8123       Hyundai i20 Magna  2013         320000     110000  Petrol  \\\n",
       "8124   Hyundai Verna CRDi SX  2007         135000     119000  Diesel   \n",
       "8125  Maruti Swift Dzire ZDi  2009         382000     120000  Diesel   \n",
       "8126         Tata Indigo CR4  2013         290000      25000  Diesel   \n",
       "8127         Tata Indigo CR4  2013         290000      25000  Diesel   \n",
       "\n",
       "     seller_type transmission                 owner     mileage   engine   \n",
       "8123  Individual       Manual           First Owner   18.5 kmpl  1197 CC  \\\n",
       "8124  Individual       Manual  Fourth & Above Owner   16.8 kmpl  1493 CC   \n",
       "8125  Individual       Manual           First Owner   19.3 kmpl  1248 CC   \n",
       "8126  Individual       Manual           First Owner  23.57 kmpl  1396 CC   \n",
       "8127  Individual       Manual           First Owner  23.57 kmpl  1396 CC   \n",
       "\n",
       "      max_power                     torque  seats  \n",
       "8123  82.85 bhp           113.7Nm@ 4000rpm    5.0  \n",
       "8124    110 bhp  24@ 1,900-2,750(kgm@ rpm)    5.0  \n",
       "8125   73.9 bhp             190Nm@ 2000rpm    5.0  \n",
       "8126     70 bhp        140Nm@ 1800-3000rpm    5.0  \n",
       "8127     70 bhp        140Nm@ 1800-3000rpm    5.0  "
      ]
     },
     "execution_count": 6,
     "metadata": {},
     "output_type": "execute_result"
    }
   ],
   "source": [
    "data.tail()"
   ]
  },
  {
   "cell_type": "markdown",
   "metadata": {},
   "source": [
    "### 3. Find Shape of Our Dataset (Number of Rows And Number of Columns)"
   ]
  },
  {
   "cell_type": "code",
   "execution_count": 7,
   "metadata": {},
   "outputs": [
    {
     "data": {
      "text/plain": [
       "(8128, 13)"
      ]
     },
     "execution_count": 7,
     "metadata": {},
     "output_type": "execute_result"
    }
   ],
   "source": [
    "data.shape"
   ]
  },
  {
   "cell_type": "code",
   "execution_count": 8,
   "metadata": {},
   "outputs": [
    {
     "name": "stdout",
     "output_type": "stream",
     "text": [
      "Number of Rows 8128\n",
      "Number of Columns 13\n"
     ]
    }
   ],
   "source": [
    "print(\"Number of Rows\",data.shape[0])\n",
    "print(\"Number of Columns\",data.shape[1])"
   ]
  },
  {
   "cell_type": "markdown",
   "metadata": {},
   "source": [
    "### 4. Get Information About Our Dataset Like the Total Number of Rows, Total Number of Columns, Datatypes of Each Column And Memory Requirement"
   ]
  },
  {
   "cell_type": "code",
   "execution_count": 9,
   "metadata": {},
   "outputs": [
    {
     "name": "stdout",
     "output_type": "stream",
     "text": [
      "<class 'pandas.core.frame.DataFrame'>\n",
      "RangeIndex: 8128 entries, 0 to 8127\n",
      "Data columns (total 13 columns):\n",
      " #   Column         Non-Null Count  Dtype  \n",
      "---  ------         --------------  -----  \n",
      " 0   name           8128 non-null   object \n",
      " 1   year           8128 non-null   int64  \n",
      " 2   selling_price  8128 non-null   int64  \n",
      " 3   km_driven      8128 non-null   int64  \n",
      " 4   fuel           8128 non-null   object \n",
      " 5   seller_type    8128 non-null   object \n",
      " 6   transmission   8128 non-null   object \n",
      " 7   owner          8128 non-null   object \n",
      " 8   mileage        7907 non-null   object \n",
      " 9   engine         7907 non-null   object \n",
      " 10  max_power      7913 non-null   object \n",
      " 11  torque         7906 non-null   object \n",
      " 12  seats          7907 non-null   float64\n",
      "dtypes: float64(1), int64(3), object(9)\n",
      "memory usage: 825.6+ KB\n"
     ]
    }
   ],
   "source": [
    "data.info()"
   ]
  },
  {
   "cell_type": "markdown",
   "metadata": {},
   "source": [
    "### 5. Check Null Values In The Dataset"
   ]
  },
  {
   "cell_type": "code",
   "execution_count": 10,
   "metadata": {},
   "outputs": [
    {
     "data": {
      "text/plain": [
       "name               0\n",
       "year               0\n",
       "selling_price      0\n",
       "km_driven          0\n",
       "fuel               0\n",
       "seller_type        0\n",
       "transmission       0\n",
       "owner              0\n",
       "mileage          221\n",
       "engine           221\n",
       "max_power        215\n",
       "torque           222\n",
       "seats            221\n",
       "dtype: int64"
      ]
     },
     "execution_count": 10,
     "metadata": {},
     "output_type": "execute_result"
    }
   ],
   "source": [
    "data.isnull().sum()"
   ]
  },
  {
   "cell_type": "markdown",
   "metadata": {},
   "source": [
    "### 7.Removing Null Valves"
   ]
  },
  {
   "cell_type": "code",
   "execution_count": 11,
   "metadata": {},
   "outputs": [],
   "source": [
    "data.dropna(inplace=True)"
   ]
  },
  {
   "cell_type": "code",
   "execution_count": 12,
   "metadata": {},
   "outputs": [
    {
     "data": {
      "text/plain": [
       "(7906, 13)"
      ]
     },
     "execution_count": 12,
     "metadata": {},
     "output_type": "execute_result"
    }
   ],
   "source": [
    "data.shape"
   ]
  },
  {
   "cell_type": "markdown",
   "metadata": {},
   "source": [
    "### 7. Get Overall Statistics About The Dataset"
   ]
  },
  {
   "cell_type": "code",
   "execution_count": 13,
   "metadata": {},
   "outputs": [
    {
     "data": {
      "text/html": [
       "<div>\n",
       "<style scoped>\n",
       "    .dataframe tbody tr th:only-of-type {\n",
       "        vertical-align: middle;\n",
       "    }\n",
       "\n",
       "    .dataframe tbody tr th {\n",
       "        vertical-align: top;\n",
       "    }\n",
       "\n",
       "    .dataframe thead th {\n",
       "        text-align: right;\n",
       "    }\n",
       "</style>\n",
       "<table border=\"1\" class=\"dataframe\">\n",
       "  <thead>\n",
       "    <tr style=\"text-align: right;\">\n",
       "      <th></th>\n",
       "      <th>year</th>\n",
       "      <th>selling_price</th>\n",
       "      <th>km_driven</th>\n",
       "      <th>seats</th>\n",
       "    </tr>\n",
       "  </thead>\n",
       "  <tbody>\n",
       "    <tr>\n",
       "      <th>count</th>\n",
       "      <td>7906.000000</td>\n",
       "      <td>7.906000e+03</td>\n",
       "      <td>7.906000e+03</td>\n",
       "      <td>7906.000000</td>\n",
       "    </tr>\n",
       "    <tr>\n",
       "      <th>mean</th>\n",
       "      <td>2013.983936</td>\n",
       "      <td>6.498137e+05</td>\n",
       "      <td>6.918866e+04</td>\n",
       "      <td>5.416393</td>\n",
       "    </tr>\n",
       "    <tr>\n",
       "      <th>std</th>\n",
       "      <td>3.863695</td>\n",
       "      <td>8.135827e+05</td>\n",
       "      <td>5.679230e+04</td>\n",
       "      <td>0.959208</td>\n",
       "    </tr>\n",
       "    <tr>\n",
       "      <th>min</th>\n",
       "      <td>1994.000000</td>\n",
       "      <td>2.999900e+04</td>\n",
       "      <td>1.000000e+00</td>\n",
       "      <td>2.000000</td>\n",
       "    </tr>\n",
       "    <tr>\n",
       "      <th>25%</th>\n",
       "      <td>2012.000000</td>\n",
       "      <td>2.700000e+05</td>\n",
       "      <td>3.500000e+04</td>\n",
       "      <td>5.000000</td>\n",
       "    </tr>\n",
       "    <tr>\n",
       "      <th>50%</th>\n",
       "      <td>2015.000000</td>\n",
       "      <td>4.500000e+05</td>\n",
       "      <td>6.000000e+04</td>\n",
       "      <td>5.000000</td>\n",
       "    </tr>\n",
       "    <tr>\n",
       "      <th>75%</th>\n",
       "      <td>2017.000000</td>\n",
       "      <td>6.900000e+05</td>\n",
       "      <td>9.542500e+04</td>\n",
       "      <td>5.000000</td>\n",
       "    </tr>\n",
       "    <tr>\n",
       "      <th>max</th>\n",
       "      <td>2020.000000</td>\n",
       "      <td>1.000000e+07</td>\n",
       "      <td>2.360457e+06</td>\n",
       "      <td>14.000000</td>\n",
       "    </tr>\n",
       "  </tbody>\n",
       "</table>\n",
       "</div>"
      ],
      "text/plain": [
       "              year  selling_price     km_driven        seats\n",
       "count  7906.000000   7.906000e+03  7.906000e+03  7906.000000\n",
       "mean   2013.983936   6.498137e+05  6.918866e+04     5.416393\n",
       "std       3.863695   8.135827e+05  5.679230e+04     0.959208\n",
       "min    1994.000000   2.999900e+04  1.000000e+00     2.000000\n",
       "25%    2012.000000   2.700000e+05  3.500000e+04     5.000000\n",
       "50%    2015.000000   4.500000e+05  6.000000e+04     5.000000\n",
       "75%    2017.000000   6.900000e+05  9.542500e+04     5.000000\n",
       "max    2020.000000   1.000000e+07  2.360457e+06    14.000000"
      ]
     },
     "execution_count": 13,
     "metadata": {},
     "output_type": "execute_result"
    }
   ],
   "source": [
    "data.describe()"
   ]
  },
  {
   "cell_type": "markdown",
   "metadata": {},
   "source": [
    "### 7. Data Preprocessing"
   ]
  },
  {
   "cell_type": "code",
   "execution_count": 14,
   "metadata": {},
   "outputs": [
    {
     "data": {
      "text/html": [
       "<div>\n",
       "<style scoped>\n",
       "    .dataframe tbody tr th:only-of-type {\n",
       "        vertical-align: middle;\n",
       "    }\n",
       "\n",
       "    .dataframe tbody tr th {\n",
       "        vertical-align: top;\n",
       "    }\n",
       "\n",
       "    .dataframe thead th {\n",
       "        text-align: right;\n",
       "    }\n",
       "</style>\n",
       "<table border=\"1\" class=\"dataframe\">\n",
       "  <thead>\n",
       "    <tr style=\"text-align: right;\">\n",
       "      <th></th>\n",
       "      <th>name</th>\n",
       "      <th>year</th>\n",
       "      <th>selling_price</th>\n",
       "      <th>km_driven</th>\n",
       "      <th>fuel</th>\n",
       "      <th>seller_type</th>\n",
       "      <th>transmission</th>\n",
       "      <th>owner</th>\n",
       "      <th>mileage</th>\n",
       "      <th>engine</th>\n",
       "      <th>max_power</th>\n",
       "      <th>torque</th>\n",
       "      <th>seats</th>\n",
       "    </tr>\n",
       "  </thead>\n",
       "  <tbody>\n",
       "    <tr>\n",
       "      <th>0</th>\n",
       "      <td>Maruti Swift Dzire VDI</td>\n",
       "      <td>2014</td>\n",
       "      <td>450000</td>\n",
       "      <td>145500</td>\n",
       "      <td>Diesel</td>\n",
       "      <td>Individual</td>\n",
       "      <td>Manual</td>\n",
       "      <td>First Owner</td>\n",
       "      <td>23.4 kmpl</td>\n",
       "      <td>1248 CC</td>\n",
       "      <td>74 bhp</td>\n",
       "      <td>190Nm@ 2000rpm</td>\n",
       "      <td>5.0</td>\n",
       "    </tr>\n",
       "  </tbody>\n",
       "</table>\n",
       "</div>"
      ],
      "text/plain": [
       "                     name  year  selling_price  km_driven    fuel seller_type   \n",
       "0  Maruti Swift Dzire VDI  2014         450000     145500  Diesel  Individual  \\\n",
       "\n",
       "  transmission        owner    mileage   engine max_power          torque   \n",
       "0       Manual  First Owner  23.4 kmpl  1248 CC    74 bhp  190Nm@ 2000rpm  \\\n",
       "\n",
       "   seats  \n",
       "0    5.0  "
      ]
     },
     "execution_count": 14,
     "metadata": {},
     "output_type": "execute_result"
    }
   ],
   "source": [
    "data.head(1)"
   ]
  },
  {
   "cell_type": "markdown",
   "metadata": {},
   "source": [
    "#### Duplicate Check"
   ]
  },
  {
   "cell_type": "code",
   "execution_count": 15,
   "metadata": {},
   "outputs": [
    {
     "data": {
      "text/plain": [
       "1189"
      ]
     },
     "execution_count": 15,
     "metadata": {},
     "output_type": "execute_result"
    }
   ],
   "source": [
    "data.duplicated().sum()"
   ]
  },
  {
   "cell_type": "markdown",
   "metadata": {},
   "source": [
    "#### Drop Duplicates"
   ]
  },
  {
   "cell_type": "code",
   "execution_count": 16,
   "metadata": {},
   "outputs": [],
   "source": [
    "data.drop_duplicates(inplace=True)"
   ]
  },
  {
   "cell_type": "code",
   "execution_count": 17,
   "metadata": {},
   "outputs": [
    {
     "data": {
      "text/plain": [
       "(6717, 13)"
      ]
     },
     "execution_count": 17,
     "metadata": {},
     "output_type": "execute_result"
    }
   ],
   "source": [
    "data.shape"
   ]
  },
  {
   "cell_type": "markdown",
   "metadata": {},
   "source": [
    "#### Removing Unecessary columns"
   ]
  },
  {
   "cell_type": "code",
   "execution_count": 18,
   "metadata": {},
   "outputs": [],
   "source": [
    "data.drop(columns=['torque'], inplace=True)\n"
   ]
  },
  {
   "cell_type": "code",
   "execution_count": 19,
   "metadata": {},
   "outputs": [
    {
     "data": {
      "text/html": [
       "<div>\n",
       "<style scoped>\n",
       "    .dataframe tbody tr th:only-of-type {\n",
       "        vertical-align: middle;\n",
       "    }\n",
       "\n",
       "    .dataframe tbody tr th {\n",
       "        vertical-align: top;\n",
       "    }\n",
       "\n",
       "    .dataframe thead th {\n",
       "        text-align: right;\n",
       "    }\n",
       "</style>\n",
       "<table border=\"1\" class=\"dataframe\">\n",
       "  <thead>\n",
       "    <tr style=\"text-align: right;\">\n",
       "      <th></th>\n",
       "      <th>name</th>\n",
       "      <th>year</th>\n",
       "      <th>selling_price</th>\n",
       "      <th>km_driven</th>\n",
       "      <th>fuel</th>\n",
       "      <th>seller_type</th>\n",
       "      <th>transmission</th>\n",
       "      <th>owner</th>\n",
       "      <th>mileage</th>\n",
       "      <th>engine</th>\n",
       "      <th>max_power</th>\n",
       "      <th>seats</th>\n",
       "    </tr>\n",
       "  </thead>\n",
       "  <tbody>\n",
       "    <tr>\n",
       "      <th>0</th>\n",
       "      <td>Maruti Swift Dzire VDI</td>\n",
       "      <td>2014</td>\n",
       "      <td>450000</td>\n",
       "      <td>145500</td>\n",
       "      <td>Diesel</td>\n",
       "      <td>Individual</td>\n",
       "      <td>Manual</td>\n",
       "      <td>First Owner</td>\n",
       "      <td>23.4 kmpl</td>\n",
       "      <td>1248 CC</td>\n",
       "      <td>74 bhp</td>\n",
       "      <td>5.0</td>\n",
       "    </tr>\n",
       "  </tbody>\n",
       "</table>\n",
       "</div>"
      ],
      "text/plain": [
       "                     name  year  selling_price  km_driven    fuel seller_type   \n",
       "0  Maruti Swift Dzire VDI  2014         450000     145500  Diesel  Individual  \\\n",
       "\n",
       "  transmission        owner    mileage   engine max_power  seats  \n",
       "0       Manual  First Owner  23.4 kmpl  1248 CC    74 bhp    5.0  "
      ]
     },
     "execution_count": 19,
     "metadata": {},
     "output_type": "execute_result"
    }
   ],
   "source": [
    "data.head(1)"
   ]
  },
  {
   "cell_type": "markdown",
   "metadata": {},
   "source": [
    "#### Finding the age of the car"
   ]
  },
  {
   "cell_type": "code",
   "execution_count": 20,
   "metadata": {},
   "outputs": [],
   "source": [
    "import datetime"
   ]
  },
  {
   "cell_type": "code",
   "execution_count": 21,
   "metadata": {},
   "outputs": [],
   "source": [
    "date_time = datetime.datetime.now()"
   ]
  },
  {
   "cell_type": "code",
   "execution_count": 22,
   "metadata": {},
   "outputs": [],
   "source": [
    "data['Age']=date_time.year - data['year']"
   ]
  },
  {
   "cell_type": "code",
   "execution_count": 23,
   "metadata": {},
   "outputs": [
    {
     "data": {
      "text/html": [
       "<div>\n",
       "<style scoped>\n",
       "    .dataframe tbody tr th:only-of-type {\n",
       "        vertical-align: middle;\n",
       "    }\n",
       "\n",
       "    .dataframe tbody tr th {\n",
       "        vertical-align: top;\n",
       "    }\n",
       "\n",
       "    .dataframe thead th {\n",
       "        text-align: right;\n",
       "    }\n",
       "</style>\n",
       "<table border=\"1\" class=\"dataframe\">\n",
       "  <thead>\n",
       "    <tr style=\"text-align: right;\">\n",
       "      <th></th>\n",
       "      <th>name</th>\n",
       "      <th>year</th>\n",
       "      <th>selling_price</th>\n",
       "      <th>km_driven</th>\n",
       "      <th>fuel</th>\n",
       "      <th>seller_type</th>\n",
       "      <th>transmission</th>\n",
       "      <th>owner</th>\n",
       "      <th>mileage</th>\n",
       "      <th>engine</th>\n",
       "      <th>max_power</th>\n",
       "      <th>seats</th>\n",
       "      <th>Age</th>\n",
       "    </tr>\n",
       "  </thead>\n",
       "  <tbody>\n",
       "    <tr>\n",
       "      <th>0</th>\n",
       "      <td>Maruti Swift Dzire VDI</td>\n",
       "      <td>2014</td>\n",
       "      <td>450000</td>\n",
       "      <td>145500</td>\n",
       "      <td>Diesel</td>\n",
       "      <td>Individual</td>\n",
       "      <td>Manual</td>\n",
       "      <td>First Owner</td>\n",
       "      <td>23.4 kmpl</td>\n",
       "      <td>1248 CC</td>\n",
       "      <td>74 bhp</td>\n",
       "      <td>5.0</td>\n",
       "      <td>10</td>\n",
       "    </tr>\n",
       "    <tr>\n",
       "      <th>1</th>\n",
       "      <td>Skoda Rapid 1.5 TDI Ambition</td>\n",
       "      <td>2014</td>\n",
       "      <td>370000</td>\n",
       "      <td>120000</td>\n",
       "      <td>Diesel</td>\n",
       "      <td>Individual</td>\n",
       "      <td>Manual</td>\n",
       "      <td>Second Owner</td>\n",
       "      <td>21.14 kmpl</td>\n",
       "      <td>1498 CC</td>\n",
       "      <td>103.52 bhp</td>\n",
       "      <td>5.0</td>\n",
       "      <td>10</td>\n",
       "    </tr>\n",
       "  </tbody>\n",
       "</table>\n",
       "</div>"
      ],
      "text/plain": [
       "                           name  year  selling_price  km_driven    fuel   \n",
       "0        Maruti Swift Dzire VDI  2014         450000     145500  Diesel  \\\n",
       "1  Skoda Rapid 1.5 TDI Ambition  2014         370000     120000  Diesel   \n",
       "\n",
       "  seller_type transmission         owner     mileage   engine   max_power   \n",
       "0  Individual       Manual   First Owner   23.4 kmpl  1248 CC      74 bhp  \\\n",
       "1  Individual       Manual  Second Owner  21.14 kmpl  1498 CC  103.52 bhp   \n",
       "\n",
       "   seats  Age  \n",
       "0    5.0   10  \n",
       "1    5.0   10  "
      ]
     },
     "execution_count": 23,
     "metadata": {},
     "output_type": "execute_result"
    }
   ],
   "source": [
    "data.head(2)"
   ]
  },
  {
   "cell_type": "code",
   "execution_count": 24,
   "metadata": {},
   "outputs": [],
   "source": [
    "data.drop('year',axis=1,inplace=True)"
   ]
  },
  {
   "cell_type": "code",
   "execution_count": 25,
   "metadata": {},
   "outputs": [
    {
     "data": {
      "text/html": [
       "<div>\n",
       "<style scoped>\n",
       "    .dataframe tbody tr th:only-of-type {\n",
       "        vertical-align: middle;\n",
       "    }\n",
       "\n",
       "    .dataframe tbody tr th {\n",
       "        vertical-align: top;\n",
       "    }\n",
       "\n",
       "    .dataframe thead th {\n",
       "        text-align: right;\n",
       "    }\n",
       "</style>\n",
       "<table border=\"1\" class=\"dataframe\">\n",
       "  <thead>\n",
       "    <tr style=\"text-align: right;\">\n",
       "      <th></th>\n",
       "      <th>name</th>\n",
       "      <th>selling_price</th>\n",
       "      <th>km_driven</th>\n",
       "      <th>fuel</th>\n",
       "      <th>seller_type</th>\n",
       "      <th>transmission</th>\n",
       "      <th>owner</th>\n",
       "      <th>mileage</th>\n",
       "      <th>engine</th>\n",
       "      <th>max_power</th>\n",
       "      <th>seats</th>\n",
       "      <th>Age</th>\n",
       "    </tr>\n",
       "  </thead>\n",
       "  <tbody>\n",
       "    <tr>\n",
       "      <th>0</th>\n",
       "      <td>Maruti Swift Dzire VDI</td>\n",
       "      <td>450000</td>\n",
       "      <td>145500</td>\n",
       "      <td>Diesel</td>\n",
       "      <td>Individual</td>\n",
       "      <td>Manual</td>\n",
       "      <td>First Owner</td>\n",
       "      <td>23.4 kmpl</td>\n",
       "      <td>1248 CC</td>\n",
       "      <td>74 bhp</td>\n",
       "      <td>5.0</td>\n",
       "      <td>10</td>\n",
       "    </tr>\n",
       "    <tr>\n",
       "      <th>1</th>\n",
       "      <td>Skoda Rapid 1.5 TDI Ambition</td>\n",
       "      <td>370000</td>\n",
       "      <td>120000</td>\n",
       "      <td>Diesel</td>\n",
       "      <td>Individual</td>\n",
       "      <td>Manual</td>\n",
       "      <td>Second Owner</td>\n",
       "      <td>21.14 kmpl</td>\n",
       "      <td>1498 CC</td>\n",
       "      <td>103.52 bhp</td>\n",
       "      <td>5.0</td>\n",
       "      <td>10</td>\n",
       "    </tr>\n",
       "  </tbody>\n",
       "</table>\n",
       "</div>"
      ],
      "text/plain": [
       "                           name  selling_price  km_driven    fuel seller_type   \n",
       "0        Maruti Swift Dzire VDI         450000     145500  Diesel  Individual  \\\n",
       "1  Skoda Rapid 1.5 TDI Ambition         370000     120000  Diesel  Individual   \n",
       "\n",
       "  transmission         owner     mileage   engine   max_power  seats  Age  \n",
       "0       Manual   First Owner   23.4 kmpl  1248 CC      74 bhp    5.0   10  \n",
       "1       Manual  Second Owner  21.14 kmpl  1498 CC  103.52 bhp    5.0   10  "
      ]
     },
     "execution_count": 25,
     "metadata": {},
     "output_type": "execute_result"
    }
   ],
   "source": [
    "data.head(2)"
   ]
  },
  {
   "cell_type": "markdown",
   "metadata": {},
   "source": [
    "#### Outlier Removal"
   ]
  },
  {
   "cell_type": "code",
   "execution_count": 26,
   "metadata": {},
   "outputs": [],
   "source": [
    "import seaborn as sns"
   ]
  },
  {
   "cell_type": "code",
   "execution_count": 27,
   "metadata": {},
   "outputs": [
    {
     "data": {
      "text/plain": [
       "<AxesSubplot:xlabel='selling_price'>"
      ]
     },
     "execution_count": 27,
     "metadata": {},
     "output_type": "execute_result"
    },
    {
     "data": {
      "image/png": "[encoded data removed]",
      "text/plain": [
       "<Figure size 640x480 with 1 Axes>"
      ]
     },
     "metadata": {},
     "output_type": "display_data"
    }
   ],
   "source": [
    "sns.boxplot(data['selling_price'])"
   ]
  },
  {
   "cell_type": "code",
   "execution_count": 28,
   "metadata": {},
   "outputs": [
    {
     "data": {
      "text/plain": [
       "[10000000,\n",
       " 7200000,\n",
       " 6523000,\n",
       " 6223000,\n",
       " 6000000,\n",
       " 6000000,\n",
       " 6000000,\n",
       " 5923000,\n",
       " 5850000,\n",
       " 5830000,\n",
       " 5800000,\n",
       " 5800000,\n",
       " 5500000,\n",
       " 5500000,\n",
       " 5500000,\n",
       " 5500000,\n",
       " 5400000,\n",
       " 5200000,\n",
       " 5200000,\n",
       " 5150000,\n",
       " 4600000,\n",
       " 4600000,\n",
       " 4500000,\n",
       " 4100000,\n",
       " 4090000,\n",
       " 4000000,\n",
       " 3975000,\n",
       " 3900000,\n",
       " 3800000,\n",
       " 3790000,\n",
       " 3750000,\n",
       " 3600000,\n",
       " 3500000,\n",
       " 3500000,\n",
       " 3400000,\n",
       " 3350000,\n",
       " 3300000,\n",
       " 3251000,\n",
       " 3250000,\n",
       " 3250000,\n",
       " 3200000,\n",
       " 3200000,\n",
       " 3200000,\n",
       " 3200000,\n",
       " 3200000,\n",
       " 3200000,\n",
       " 3200000,\n",
       " 3100000,\n",
       " 3100000,\n",
       " 3000000,\n",
       " 3000000,\n",
       " 3000000,\n",
       " 3000000,\n",
       " 3000000,\n",
       " 2950000,\n",
       " 2950000,\n",
       " 2950000,\n",
       " 2950000,\n",
       " 2940000,\n",
       " 2900000,\n",
       " 2900000,\n",
       " 2900000,\n",
       " 2900000,\n",
       " 2900000,\n",
       " 2850000,\n",
       " 2825000,\n",
       " 2800000,\n",
       " 2800000,\n",
       " 2750000,\n",
       " 2711000,\n",
       " 2700000,\n",
       " 2700000,\n",
       " 2700000,\n",
       " 2700000,\n",
       " 2700000,\n",
       " 2650000,\n",
       " 2625000,\n",
       " 2600000,\n",
       " 2600000,\n",
       " 2600000,\n",
       " 2600000,\n",
       " 2575000,\n",
       " 2550000,\n",
       " 2500000,\n",
       " 2500000,\n",
       " 2500000,\n",
       " 2475000,\n",
       " 2450000,\n",
       " 2450000,\n",
       " 2400000,\n",
       " 2375000,\n",
       " 2300000,\n",
       " 2280000,\n",
       " 2200000,\n",
       " 2200000,\n",
       " 2199000,\n",
       " 2175000,\n",
       " 2150000,\n",
       " 2150000,\n",
       " 2125000,\n",
       " 2100000,\n",
       " 2100000,\n",
       " 2100000,\n",
       " 2100000,\n",
       " 2100000,\n",
       " 2064000,\n",
       " 2051000,\n",
       " 2000000,\n",
       " 2000000,\n",
       " 2000000,\n",
       " 2000000,\n",
       " 2000000,\n",
       " 2000000,\n",
       " 2000000,\n",
       " 2000000,\n",
       " 2000000,\n",
       " 2000000,\n",
       " 2000000,\n",
       " 1950000,\n",
       " 1950000,\n",
       " 1950000,\n",
       " 1950000,\n",
       " 1950000,\n",
       " 1938000,\n",
       " 1925000,\n",
       " 1925000,\n",
       " 1925000,\n",
       " 1920000,\n",
       " 1900000,\n",
       " 1900000,\n",
       " 1900000,\n",
       " 1900000,\n",
       " 1900000,\n",
       " 1898999,\n",
       " 1888000,\n",
       " 1864999,\n",
       " 1859000,\n",
       " 1850000,\n",
       " 1850000,\n",
       " 1850000,\n",
       " 1850000,\n",
       " 1850000,\n",
       " 1850000,\n",
       " 1850000,\n",
       " 1850000,\n",
       " 1825000,\n",
       " 1825000,\n",
       " 1800000,\n",
       " 1800000,\n",
       " 1800000,\n",
       " 1800000,\n",
       " 1800000,\n",
       " 1800000,\n",
       " 1789999,\n",
       " 1757000,\n",
       " 1750000,\n",
       " 1750000,\n",
       " 1750000,\n",
       " 1750000,\n",
       " 1750000,\n",
       " 1750000,\n",
       " 1750000,\n",
       " 1750000,\n",
       " 1750000,\n",
       " 1748999,\n",
       " 1745000,\n",
       " 1700000,\n",
       " 1700000,\n",
       " 1700000,\n",
       " 1700000,\n",
       " 1700000,\n",
       " 1700000,\n",
       " 1700000,\n",
       " 1700000,\n",
       " 1700000,\n",
       " 1689999,\n",
       " 1689999,\n",
       " 1689999,\n",
       " 1689999,\n",
       " 1680000,\n",
       " 1680000,\n",
       " 1675000,\n",
       " 1670000,\n",
       " 1650000,\n",
       " 1650000,\n",
       " 1650000,\n",
       " 1650000,\n",
       " 1650000,\n",
       " 1650000,\n",
       " 1650000,\n",
       " 1650000,\n",
       " 1650000,\n",
       " 1650000,\n",
       " 1650000,\n",
       " 1650000,\n",
       " 1630000,\n",
       " 1630000,\n",
       " 1625000,\n",
       " 1600000,\n",
       " 1600000,\n",
       " 1600000,\n",
       " 1600000,\n",
       " 1600000,\n",
       " 1600000,\n",
       " 1594000,\n",
       " 1590000,\n",
       " 1576000,\n",
       " 1575000,\n",
       " 1575000,\n",
       " 1575000,\n",
       " 1575000,\n",
       " 1575000,\n",
       " 1560000,\n",
       " 1550000,\n",
       " 1550000,\n",
       " 1550000,\n",
       " 1550000,\n",
       " 1550000,\n",
       " 1530000,\n",
       " 1525000,\n",
       " 1525000,\n",
       " 1525000,\n",
       " 1520000,\n",
       " 1516000,\n",
       " 1515000,\n",
       " 1511000,\n",
       " 1500000,\n",
       " 1500000,\n",
       " 1500000,\n",
       " 1500000,\n",
       " 1500000,\n",
       " 1500000,\n",
       " 1500000,\n",
       " 1500000,\n",
       " 1500000,\n",
       " 1500000,\n",
       " 1500000,\n",
       " 1500000,\n",
       " 1500000,\n",
       " 1500000,\n",
       " 1490000,\n",
       " 1475000,\n",
       " 1475000,\n",
       " 1465000,\n",
       " 1465000,\n",
       " 1460000,\n",
       " 1450000,\n",
       " 1450000,\n",
       " 1450000,\n",
       " 1450000,\n",
       " 1450000,\n",
       " 1445000,\n",
       " 1425000,\n",
       " 1405000,\n",
       " 1400000,\n",
       " 1400000,\n",
       " 1400000,\n",
       " 1400000,\n",
       " 1400000,\n",
       " 1400000,\n",
       " 1390000,\n",
       " 1385000,\n",
       " 1380000,\n",
       " 1380000,\n",
       " 1380000,\n",
       " 1365000,\n",
       " 1350000,\n",
       " 1350000,\n",
       " 1350000,\n",
       " 1350000,\n",
       " 1350000,\n",
       " 1350000,\n",
       " 1350000,\n",
       " 1350000,\n",
       " 1350000,\n",
       " 1350000,\n",
       " 1350000,\n",
       " 1350000,\n",
       " 1325000,\n",
       " 1325000,\n",
       " 1325000,\n",
       " 1325000,\n",
       " 1300000,\n",
       " 1300000,\n",
       " 1300000,\n",
       " 1300000,\n",
       " 1300000,\n",
       " 1300000,\n",
       " 1300000,\n",
       " 1300000,\n",
       " 1300000,\n",
       " 1300000,\n",
       " 1300000,\n",
       " 1300000,\n",
       " 1300000,\n",
       " 1300000,\n",
       " 1300000,\n",
       " 1295000,\n",
       " 1295000,\n",
       " 1290000,\n",
       " 1290000,\n",
       " 1282000,\n",
       " 1275000,\n",
       " 1270000,\n",
       " 1265000,\n",
       " 1251000,\n",
       " 1250000,\n",
       " 1250000,\n",
       " 1250000,\n",
       " 1250000,\n",
       " 1250000,\n",
       " 1250000,\n",
       " 1250000,\n",
       " 1250000,\n",
       " 1250000,\n",
       " 1250000,\n",
       " 1250000,\n",
       " 1250000,\n",
       " 1250000,\n",
       " 1237000,\n",
       " 1227000,\n",
       " 1225000,\n",
       " 1225000,\n",
       " 1225000,\n",
       " 1220000,\n",
       " 1210000,\n",
       " 1200000,\n",
       " 1200000,\n",
       " 1200000,\n",
       " 1200000,\n",
       " 1200000,\n",
       " 1200000,\n",
       " 1200000,\n",
       " 1200000,\n",
       " 1200000,\n",
       " 1200000,\n",
       " 1200000,\n",
       " 1200000,\n",
       " 1200000,\n",
       " 1200000,\n",
       " 1200000,\n",
       " 1200000,\n",
       " 1200000,\n",
       " 1200000,\n",
       " 1200000,\n",
       " 1200000,\n",
       " 1200000,\n",
       " 1200000,\n",
       " 1200000,\n",
       " 1200000,\n",
       " 1200000,\n",
       " 1200000,\n",
       " 1190000,\n",
       " 1180000,\n",
       " 1175000,\n",
       " 1175000,\n",
       " 1165000,\n",
       " 1160000,\n",
       " 1151000,\n",
       " 1150000,\n",
       " 1150000,\n",
       " 1150000,\n",
       " 1150000,\n",
       " 1150000,\n",
       " 1150000,\n",
       " 1150000,\n",
       " 1150000,\n",
       " 1150000,\n",
       " 1150000,\n",
       " 1150000,\n",
       " 1150000,\n",
       " 1150000,\n",
       " 1150000,\n",
       " 1149000,\n",
       " 1147000,\n",
       " 1145000,\n",
       " 1143000,\n",
       " 1140000,\n",
       " 1140000,\n",
       " 1132000,\n",
       " 1125000,\n",
       " 1125000,\n",
       " 1125000,\n",
       " 1125000,\n",
       " 1110000,\n",
       " 1110000,\n",
       " 1100000,\n",
       " 1100000,\n",
       " 1100000,\n",
       " 1100000,\n",
       " 1100000,\n",
       " 1100000,\n",
       " 1100000,\n",
       " 1100000,\n",
       " 1100000,\n",
       " 1100000,\n",
       " 1100000,\n",
       " 1100000,\n",
       " 1100000,\n",
       " 1100000,\n",
       " 1100000,\n",
       " 1100000,\n",
       " 1100000,\n",
       " 1100000,\n",
       " 1100000,\n",
       " 1100000,\n",
       " 1100000,\n",
       " 1100000,\n",
       " 1100000,\n",
       " 1100000,\n",
       " 1100000,\n",
       " 1100000,\n",
       " 1100000,\n",
       " 1100000,\n",
       " 1100000,\n",
       " 1100000,\n",
       " 1100000,\n",
       " 1100000,\n",
       " 1090000,\n",
       " 1090000,\n",
       " 1085000,\n",
       " 1080000,\n",
       " 1075000,\n",
       " 1075000,\n",
       " 1075000,\n",
       " 1075000,\n",
       " 1051000,\n",
       " 1050000,\n",
       " 1050000,\n",
       " 1050000,\n",
       " 1050000,\n",
       " 1050000,\n",
       " 1050000,\n",
       " 1050000,\n",
       " 1050000,\n",
       " 1050000,\n",
       " 1050000,\n",
       " 1050000,\n",
       " 1050000,\n",
       " 1050000,\n",
       " 1050000,\n",
       " 1050000,\n",
       " 1050000,\n",
       " 1050000,\n",
       " 1050000,\n",
       " 1050000,\n",
       " 1050000,\n",
       " 1050000,\n",
       " 1050000,\n",
       " 1050000,\n",
       " 1050000,\n",
       " 1050000,\n",
       " 1050000,\n",
       " 1050000,\n",
       " 1050000,\n",
       " 1050000,\n",
       " 1050000,\n",
       " 1050000,\n",
       " 1050000,\n",
       " 1044999,\n",
       " 1040000,\n",
       " 1035000,\n",
       " 1031000,\n",
       " 1030000,\n",
       " 1030000,\n",
       " 1025000,\n",
       " 1025000,\n",
       " 1025000,\n",
       " 1025000,\n",
       " 1025000,\n",
       " 1025000,\n",
       " 1025000,\n",
       " 1019999,\n",
       " 1019999,\n",
       " 1000000,\n",
       " 1000000,\n",
       " 1000000,\n",
       " 1000000,\n",
       " 1000000,\n",
       " 1000000,\n",
       " 1000000,\n",
       " 1000000,\n",
       " 1000000,\n",
       " 1000000,\n",
       " 1000000,\n",
       " 1000000,\n",
       " 1000000,\n",
       " 1000000,\n",
       " 1000000,\n",
       " 1000000,\n",
       " 1000000,\n",
       " 1000000,\n",
       " 1000000,\n",
       " 1000000,\n",
       " 1000000,\n",
       " 1000000,\n",
       " 1000000,\n",
       " 1000000,\n",
       " 1000000,\n",
       " 1000000,\n",
       " 1000000,\n",
       " 1000000,\n",
       " 1000000,\n",
       " 1000000,\n",
       " 1000000,\n",
       " 1000000,\n",
       " 1000000,\n",
       " 1000000,\n",
       " 1000000,\n",
       " 1000000,\n",
       " 1000000,\n",
       " 1000000,\n",
       " 1000000,\n",
       " 1000000,\n",
       " 999000,\n",
       " 990000,\n",
       " 990000,\n",
       " 990000,\n",
       " 990000,\n",
       " 990000,\n",
       " 980000,\n",
       " 980000,\n",
       " 980000,\n",
       " 980000,\n",
       " 978999,\n",
       " 977000,\n",
       " 975000,\n",
       " 975000,\n",
       " 975000,\n",
       " 975000,\n",
       " 975000,\n",
       " 975000,\n",
       " 975000,\n",
       " 975000,\n",
       " 975000,\n",
       " 975000,\n",
       " 975000,\n",
       " 975000,\n",
       " 975000,\n",
       " 974000,\n",
       " 969999,\n",
       " 969999,\n",
       " 969999,\n",
       " 965000,\n",
       " 960000,\n",
       " 960000,\n",
       " 960000,\n",
       " 960000,\n",
       " 960000,\n",
       " 957000,\n",
       " 955000,\n",
       " 950000,\n",
       " 950000,\n",
       " 950000,\n",
       " 950000,\n",
       " 950000,\n",
       " 950000,\n",
       " 950000,\n",
       " 950000,\n",
       " 950000,\n",
       " 950000,\n",
       " 950000,\n",
       " 950000,\n",
       " 950000,\n",
       " 950000,\n",
       " 950000,\n",
       " 950000,\n",
       " 950000,\n",
       " 950000,\n",
       " 950000,\n",
       " 950000,\n",
       " 950000,\n",
       " 950000,\n",
       " 950000,\n",
       " 950000,\n",
       " 950000,\n",
       " 950000,\n",
       " 950000,\n",
       " 950000,\n",
       " 950000,\n",
       " 950000,\n",
       " 950000,\n",
       " 950000,\n",
       " 950000,\n",
       " 950000,\n",
       " 950000,\n",
       " 950000,\n",
       " 950000,\n",
       " 950000,\n",
       " 950000,\n",
       " 950000,\n",
       " 950000,\n",
       " 950000,\n",
       " 950000,\n",
       " 950000,\n",
       " 950000,\n",
       " 950000,\n",
       " 950000,\n",
       " 950000,\n",
       " 950000,\n",
       " 950000,\n",
       " 950000,\n",
       " 950000,\n",
       " 950000,\n",
       " 950000,\n",
       " 950000,\n",
       " 950000,\n",
       " 950000,\n",
       " 950000,\n",
       " 950000,\n",
       " 950000,\n",
       " 950000,\n",
       " 949000,\n",
       " 946000,\n",
       " 944999,\n",
       " 940000,\n",
       " 940000,\n",
       " 940000,\n",
       " 934000,\n",
       " 930000,\n",
       " 930000,\n",
       " 925000,\n",
       " 925000,\n",
       " 925000,\n",
       " 925000,\n",
       " 925000,\n",
       " 925000,\n",
       " 925000,\n",
       " 925000,\n",
       " 925000,\n",
       " 925000,\n",
       " 925000,\n",
       " 925000,\n",
       " 925000,\n",
       " 925000,\n",
       " 925000,\n",
       " 919999,\n",
       " 919999,\n",
       " 919999,\n",
       " 919999,\n",
       " 911999,\n",
       " 911000,\n",
       " 910000,\n",
       " 910000,\n",
       " 910000,\n",
       " 910000,\n",
       " 910000,\n",
       " 910000,\n",
       " 910000,\n",
       " 906000,\n",
       " 905000,\n",
       " 900000,\n",
       " 900000,\n",
       " 900000,\n",
       " 900000,\n",
       " 900000,\n",
       " 900000,\n",
       " 900000,\n",
       " 900000,\n",
       " 900000,\n",
       " 900000,\n",
       " 900000,\n",
       " 900000,\n",
       " 900000,\n",
       " 900000,\n",
       " 900000,\n",
       " 900000,\n",
       " 900000,\n",
       " 900000,\n",
       " 900000,\n",
       " 900000,\n",
       " 900000,\n",
       " 900000,\n",
       " 900000,\n",
       " 900000,\n",
       " 900000,\n",
       " 900000,\n",
       " 900000,\n",
       " 900000,\n",
       " 900000,\n",
       " 900000,\n",
       " 900000,\n",
       " 900000,\n",
       " 900000,\n",
       " 900000,\n",
       " 900000,\n",
       " 900000,\n",
       " 900000,\n",
       " 900000,\n",
       " 900000,\n",
       " 900000,\n",
       " 900000,\n",
       " 900000,\n",
       " 900000,\n",
       " 900000,\n",
       " 900000,\n",
       " 900000,\n",
       " 900000,\n",
       " 900000,\n",
       " 900000,\n",
       " 900000,\n",
       " 900000,\n",
       " 900000,\n",
       " 900000,\n",
       " 900000,\n",
       " 900000,\n",
       " 900000,\n",
       " 900000,\n",
       " 900000,\n",
       " 900000,\n",
       " 900000,\n",
       " 899000,\n",
       " 899000,\n",
       " 894999,\n",
       " 894999,\n",
       " 892000,\n",
       " 891000,\n",
       " 890000,\n",
       " 890000,\n",
       " 890000,\n",
       " 890000,\n",
       " 890000,\n",
       " 890000,\n",
       " 890000,\n",
       " 890000,\n",
       " 890000,\n",
       " 890000,\n",
       " 889000,\n",
       " 889000,\n",
       " 885000,\n",
       " 885000,\n",
       " 885000,\n",
       " 885000,\n",
       " 880000,\n",
       " 880000,\n",
       " 880000,\n",
       " 880000,\n",
       " 880000,\n",
       " 880000,\n",
       " 880000,\n",
       " 880000,\n",
       " 875000,\n",
       " 875000,\n",
       " 875000,\n",
       " 875000,\n",
       " 875000,\n",
       " 875000,\n",
       " 875000,\n",
       " 875000,\n",
       " 875000,\n",
       " 875000,\n",
       " 875000,\n",
       " 875000,\n",
       " 875000,\n",
       " 869999,\n",
       " 869999,\n",
       " 869999,\n",
       " 869999,\n",
       " 869999,\n",
       " 869999,\n",
       " 869999,\n",
       " 866000,\n",
       " 861999,\n",
       " 861000,\n",
       " 860000,\n",
       " 860000,\n",
       " 860000,\n",
       " 860000,\n",
       " 860000,\n",
       " 860000,\n",
       " 860000,\n",
       " 860000,\n",
       " 860000,\n",
       " 860000,\n",
       " 851000,\n",
       " 850000,\n",
       " 850000,\n",
       " 850000,\n",
       " 850000,\n",
       " 850000,\n",
       " 850000,\n",
       " 850000,\n",
       " 850000,\n",
       " 850000,\n",
       " 850000,\n",
       " 850000,\n",
       " 850000,\n",
       " 850000,\n",
       " 850000,\n",
       " 850000,\n",
       " 850000,\n",
       " 850000,\n",
       " 850000,\n",
       " 850000,\n",
       " 850000,\n",
       " 850000,\n",
       " 850000,\n",
       " 850000,\n",
       " 850000,\n",
       " 850000,\n",
       " 850000,\n",
       " 850000,\n",
       " 850000,\n",
       " 850000,\n",
       " 850000,\n",
       " 850000,\n",
       " 850000,\n",
       " 850000,\n",
       " 850000,\n",
       " 850000,\n",
       " 850000,\n",
       " 850000,\n",
       " 850000,\n",
       " 850000,\n",
       " 850000,\n",
       " 850000,\n",
       " 850000,\n",
       " 850000,\n",
       " 850000,\n",
       " 850000,\n",
       " 850000,\n",
       " 850000,\n",
       " 850000,\n",
       " 850000,\n",
       " 850000,\n",
       " 850000,\n",
       " 850000,\n",
       " 850000,\n",
       " 850000,\n",
       " 850000,\n",
       " 850000,\n",
       " 850000,\n",
       " 850000,\n",
       " 850000,\n",
       " 850000,\n",
       " 850000,\n",
       " 850000,\n",
       " 850000,\n",
       " 849000,\n",
       " 844999,\n",
       " 840000,\n",
       " 840000,\n",
       " 840000,\n",
       " 840000,\n",
       " 839000,\n",
       " 835000,\n",
       " 835000,\n",
       " 834000,\n",
       " 834000,\n",
       " 833000,\n",
       " 830000,\n",
       " 830000,\n",
       " 830000,\n",
       " 830000,\n",
       " 830000,\n",
       " 830000,\n",
       " 830000,\n",
       " 825000,\n",
       " 825000,\n",
       " 825000,\n",
       " 825000,\n",
       " 825000,\n",
       " 825000,\n",
       " 825000,\n",
       " 825000,\n",
       " 825000,\n",
       " 825000,\n",
       " 825000,\n",
       " 825000,\n",
       " 825000,\n",
       " 825000,\n",
       " 822000,\n",
       " 819999,\n",
       " 819999,\n",
       " 819999,\n",
       " 819999,\n",
       " 819999,\n",
       " 819999,\n",
       " 819999,\n",
       " 819999,\n",
       " 819999,\n",
       " 813000,\n",
       " 811000,\n",
       " 811000,\n",
       " 811000,\n",
       " 810000,\n",
       " 810000,\n",
       " 810000,\n",
       " 810000,\n",
       " 810000,\n",
       " 810000,\n",
       " 810000,\n",
       " 808000,\n",
       " 805000,\n",
       " 803999,\n",
       " 802999,\n",
       " 802999,\n",
       " 801000,\n",
       " 800000,\n",
       " 800000,\n",
       " 800000,\n",
       " 800000,\n",
       " 800000,\n",
       " 800000,\n",
       " 800000,\n",
       " 800000,\n",
       " 800000,\n",
       " 800000,\n",
       " 800000,\n",
       " 800000,\n",
       " 800000,\n",
       " 800000,\n",
       " 800000,\n",
       " 800000,\n",
       " 800000,\n",
       " 800000,\n",
       " 800000,\n",
       " 800000,\n",
       " 800000,\n",
       " 800000,\n",
       " 800000,\n",
       " 800000,\n",
       " 800000,\n",
       " 800000,\n",
       " 800000,\n",
       " 800000,\n",
       " 800000,\n",
       " 800000,\n",
       " 800000,\n",
       " 800000,\n",
       " 800000,\n",
       " 800000,\n",
       " 800000,\n",
       " 800000,\n",
       " 800000,\n",
       " 800000,\n",
       " 800000,\n",
       " 800000,\n",
       " 800000,\n",
       " 800000,\n",
       " 800000,\n",
       " 800000,\n",
       " 800000,\n",
       " 800000,\n",
       " 800000,\n",
       " 800000,\n",
       " 800000,\n",
       " 800000,\n",
       " 800000,\n",
       " 800000,\n",
       " 800000,\n",
       " 800000,\n",
       " 800000,\n",
       " 800000,\n",
       " 800000,\n",
       " 800000,\n",
       " 800000,\n",
       " 800000,\n",
       " 800000,\n",
       " 800000,\n",
       " 800000,\n",
       " 800000,\n",
       " 800000,\n",
       " 800000,\n",
       " 800000,\n",
       " 800000,\n",
       " 800000,\n",
       " 800000,\n",
       " 800000,\n",
       " 800000,\n",
       " 800000,\n",
       " 800000,\n",
       " 800000,\n",
       " 800000,\n",
       " 800000,\n",
       " 800000,\n",
       " 800000,\n",
       " 800000,\n",
       " 799000,\n",
       " 799000,\n",
       " 797000,\n",
       " 795000,\n",
       " 795000,\n",
       " 795000,\n",
       " 795000,\n",
       " 795000,\n",
       " 795000,\n",
       " 793000,\n",
       " 791000,\n",
       " 790000,\n",
       " 790000,\n",
       " 790000,\n",
       " 790000,\n",
       " 790000,\n",
       " 786000,\n",
       " 786000,\n",
       " 785000,\n",
       " 780000,\n",
       " 780000,\n",
       " 780000,\n",
       " ...]"
      ]
     },
     "execution_count": 28,
     "metadata": {},
     "output_type": "execute_result"
    }
   ],
   "source": [
    "sorted(data['selling_price'],reverse=True)"
   ]
  },
  {
   "cell_type": "code",
   "execution_count": 29,
   "metadata": {},
   "outputs": [],
   "source": [
    "data = data[~(data['selling_price']>=5000000) & (data['selling_price']<=100000000)]"
   ]
  },
  {
   "cell_type": "code",
   "execution_count": 30,
   "metadata": {},
   "outputs": [
    {
     "data": {
      "text/plain": [
       "(6697, 12)"
      ]
     },
     "execution_count": 30,
     "metadata": {},
     "output_type": "execute_result"
    }
   ],
   "source": [
    "data.shape"
   ]
  },
  {
   "cell_type": "code",
   "execution_count": 31,
   "metadata": {},
   "outputs": [
    {
     "data": {
      "text/plain": [
       "<AxesSubplot:xlabel='selling_price'>"
      ]
     },
     "execution_count": 31,
     "metadata": {},
     "output_type": "execute_result"
    },
    {
     "data": {
      "image/png": "[encoded data removed]",
      "text/plain": [
       "<Figure size 640x480 with 1 Axes>"
      ]
     },
     "metadata": {},
     "output_type": "display_data"
    }
   ],
   "source": [
    "sns.boxplot(data['selling_price'])"
   ]
  },
  {
   "cell_type": "markdown",
   "metadata": {},
   "source": [
    "### Data Analysis"
   ]
  },
  {
   "cell_type": "code",
   "execution_count": 32,
   "metadata": {},
   "outputs": [
    {
     "name": "stdout",
     "output_type": "stream",
     "text": [
      "Unique values of name\n",
      "['Maruti Swift Dzire VDI' 'Skoda Rapid 1.5 TDI Ambition'\n",
      " 'Honda City 2017-2020 EXi' ... 'Tata Nexon 1.5 Revotorq XT'\n",
      " 'Ford Freestyle Titanium Plus Diesel BSIV'\n",
      " 'Toyota Innova 2.5 GX (Diesel) 8 Seater BS IV']\n",
      "================================================\n",
      "Unique values of selling_price\n",
      "[ 450000  370000  158000  225000  130000  440000   96000   45000  350000\n",
      "  200000  500000   92000  280000  180000  400000  778000  150000  680000\n",
      "  174000  950000  525000  600000  575000  275000  300000  220000  254999\n",
      "  670000  730000  650000  330000  366000 1149000  425000 2100000  925000\n",
      "  675000  819999  390000 1500000  700000 1450000 1090000  850000 1650000\n",
      " 1750000 1590000 1689999 1425000  265000  190000  630000  540000  448000\n",
      "  745000 1025000  235000 1700000 1200000  610000 2500000  484999  315000\n",
      "  290000  455000  351000  535000  175000  565000  120000  725000  185000\n",
      "  615000  270000  625000  866000  375000  522000  451999  475000  780000\n",
      "  595000 1140000  360000  105000  135000  690000 3975000 3200000 4100000\n",
      " 4500000 3790000 1864999 2700000  795000 3400000 2650000  975000  805000\n",
      " 2625000  811000  550000  645000 2550000  599000  875000  894999  340000\n",
      " 1525000 2150000 1900000 2900000  160000  515000   40000  480000  487000\n",
      "  386000  100000  490000  345000   85000  215000  320000  459999   65000\n",
      "  720000  800000  520000  580000  420000 1250000  830000  335000  329000\n",
      "  775000  524000  245000  910000  900000  250000 1100000  640000  409999\n",
      "  165000   80000 1000000  110000  170000 1380000 1300000  530000  310000\n",
      " 1150000  380000  404000  114999  465000  210000 4600000  509999   90000\n",
      "  409000  395000   81000  555000  229999 1210000  325000   60000   89000\n",
      "  434999 3000000  570000 1550000   64000  140000  503000 3800000 2000000\n",
      "  740000  750000  779000 2475000  240000 1085000   95000 1290000  219000\n",
      "  260000  840000  292000  385000 1050000  735000  560000  585000  760000\n",
      "  430000  643000  285000  660000  268000   88000  561000  755000  125000\n",
      " 1600000  801000  317000  495000  236000 1800000  415000  217000  466000\n",
      "  605000 1350000  337000  655000  196000  299000  634000 1225000  238000\n",
      "  590000  195000  715000  168000  531000 1625000  145000  441000   67500\n",
      "  321000  298000 1075000  681000  810000  573000  101000 1019999  244000\n",
      " 1165000  241000  327000  620000  204999  576000  695000  231000  261000\n",
      "  371000  421000  710000 1040000  199000  305000 1745000  611000   75000\n",
      "   55000 1325000  885000  108000  272000 1125000  388000  757000  626000\n",
      "  793000 3750000 1400000 1925000  844999 2940000 1825000  890000  770000\n",
      "  467000  711000  511000  166000  392000  833000   35000  880000 1030000\n",
      "  521000  451000  472000  649000  429000 1576000  825000  470000 1560000\n",
      " 1950000  786000  731000  191000  651000  445000   93150  403000  144000\n",
      "   52000  302000  869999  155000  246000  405000   70000 3250000 1143000\n",
      "  635000 1575000  318000  152000  248000 1465000 1080000  678000 1460000\n",
      "  756000  665000 2950000  377000 1675000  169000  685000  749000  899000\n",
      "  259000  416000  773000  889000  118000  256000 1888000   99000 2280000\n",
      "   31504  295000  444000  860000 2450000  198000 2825000 2125000 3350000\n",
      "  365000  919999 2600000  839000 1594000  161000  423000  551000   50000\n",
      "  411000 1530000  376000 1850000   86000  822000   30000  252000  131000\n",
      "  128000  790000  604000 1175000  141000  151000  577000   83000  946000\n",
      "  356000  955000  978999  348000  399000  362000  499000  358000  278000\n",
      "  426000  211000 1270000  426999  960000 1031000   72000  479000  764000\n",
      " 2199000 3600000  184000  119000  267000  328000  112999   39000 2850000\n",
      " 2800000 3900000  221000  631000  308000  940000  361000  355000  930000\n",
      " 1670000  980000  486000  242000  654000  835000  408000   94500 1110000\n",
      "  438999  911999  693000  449000 1390000  698000  539000  765000  562000\n",
      "  571000  589000  227999 1151000 1295000 4090000  347000  493000  545000\n",
      " 1475000  287000 1630000  501000  181000 2711000 1035000  316000  813000\n",
      " 1190000  378000  156000  194000  754000   55599 1511000   78000  250999\n",
      "  312000   66000  369000  149000  752000  142000  111000  206000  567000\n",
      "  699000  632000  905000 1145000   58000  179000 1515000  178000  222000\n",
      "  387000 1405000  282000  458000  157000  497000 1227000  574000  121000\n",
      " 3100000   68000 1920000  808000  512000  671000  799000 1365000 1490000\n",
      "   80500  189000  892000   93000 1680000  667000  204000   42000  694000\n",
      "  861999  476999 2375000 2750000 1385000  785000 1275000 1748999  132000\n",
      "   33351 2064000  469000  906000  797000  122000  891000  346000  532000\n",
      "  974000  483000  138000  432000 1757000  412000  126000  736000  579000\n",
      "  187000 4000000 1898999  482000  401000  737000  291000  999000  957000\n",
      "  834000  297000  669000  616000  129000  115999  861000 3251000  911000\n",
      "  148000  433000  488000   67000  516000  136000   29999  124000 1938000\n",
      "  172000   59000 3500000  537000  849000  851000  597000  741000  556000\n",
      "  549000  679000  969999 1237000   31000  666000   54000  374000  455999\n",
      "  453000  258000  428000  262000  389000  339000  277000  578000  684000\n",
      "  949000  227000  721000  751000 2400000  990000 1282000 1147000  558000\n",
      "  722000  563000 2300000 2200000  488999  276000  434000  372000 1520000\n",
      "  202999  541000  254000  528000  102000  311000  977000 1251000 1445000\n",
      "   98000   59259  153000 1051000  591000  319000  454000 1160000 3300000\n",
      "  791000  802999 1789999 1044999  279000  944999 1859000 2175000  430999\n",
      "  803999  934000  357000  965000  341000   75527 1132000  352000  252999\n",
      "  313000  391000 2051000  212000 2575000 1516000  359000  209000 1220000\n",
      " 1180000   45957 1265000  382000  526000   90177   46000  307000  746000]\n",
      "================================================\n",
      "Unique values of km_driven\n",
      "[ 145500  120000  140000  127000   45000  175000    5000   90000  169000\n",
      "   68000  100000   40000   70000   53000   80000   50000   72000   35000\n",
      "   28000   25000    2388   16200   10000   15000   42000   60000   76000\n",
      "   28900   86300   23300   32600   10300   77000   99000   27800   49800\n",
      "  151000   54700   64000   63000  127700   33900   59000  110000  147000\n",
      "   30000  135000    9850   78000  170000   49000   32000   38000   44000\n",
      "   12000   55500   61500  150000   37800  114000   48000   69000   13000\n",
      "   76139   65000    1303   31800   17000   21000   29500   19000   41000\n",
      "   39000   22000   72200   49900    9000   11000   95000   18000   46100\n",
      "   16000    9654   24300   42163    8000   71000   20000    9500   36600\n",
      "   14000   47000  120600   86000   37000    7800   31377   75000   93000\n",
      "  125000   13500  162500   92500  158000    2000  181000  193000  122358\n",
      "   95200   33033   63063  207890    7976   16500   99361   33000   80100\n",
      "  160000   26000   29000   58000   36000  185000  162000   67000   52000\n",
      "   68089   58343   38817   56494   79328    5621   25538   69779   56290\n",
      "    7032  106000  240000  214000    1000  265000  134000    2136  250000\n",
      "  130000   99500  119000   44665  123000   34000  146000   85000  201850\n",
      "   46000  190000   43000   14200   19100   54000  101500   55735    1500\n",
      "  181491   53319   40906   31711   43755   66693   59549   94385   73730\n",
      "  221889  116104  150546  148120  142000  126000   24000  101000  168000\n",
      "  165000   98500   98000   77800   51492  136000   91000  167000  180000\n",
      "    6000   91500  132478   51000  105000  137500   88000  156060  107000\n",
      "   57000  300000  200000   18945  144000  107825    1620  141000  108000\n",
      "   55000   37944   90400   96000  193623   63186  219000   23000   94000\n",
      "  140500  143000  195000  360003    8079  114368   79990   81632  155201\n",
      "  101504   90165   86017   85036  125531  206000   49700   74000    6550\n",
      "   56000   41779   31000   13534    7000   63309  155000   11500    3000\n",
      "  157000   27000   26300   89100  104000  210000  216000   84000  161000\n",
      "   72113  113000   96443   51500  104500   49102   81000  227000  117000\n",
      "    8576   19723   21446   52289   52236   54470   25471   33928   59736\n",
      "   54290    2118   61379   58544   74381   63982   56429   19500   56832\n",
      "   30528   65285   20102   52380   74250   57247  178000   42323   42462\n",
      "   54723   42545   20375   43978   40200   27233   28832  103000  142500\n",
      "  115000   35500   17500   92000    4500   83000    6750   18500   50478\n",
      "    9200    2300    4295    5229    4701    6757   28182   11533   11688\n",
      "   57728   23712   70670   43381   79011   58500   43500   12700   49455\n",
      "   46815  334000  100875  118000  128000  144030  176000   89000   97000\n",
      "   12800   65100   15200   82000  116500  145000   73000  113226  160500\n",
      "  132000  217000  139000    3500   62000 1500000  120005   16830   93468\n",
      "   16589   53201   25272   53619    6001  202000   71717   84321  177000\n",
      "  205000   41800   88700  188000  225000    5500    4875    2700   58511\n",
      "   26235   26766    1600   24522   13663   58945  375000  156975   27620\n",
      "  143200  138000  189000  156000   10800   67500  255000   71850  112000\n",
      "  159000   76131   51777   64788   46951   74537   23500   68600   13887\n",
      "   66000   24400   27500   67840  380000  112880   61915  184000    6200\n",
      "   16700    7967    9656   68609   33360   14317   87237   62960   26634\n",
      "  163720   67998   20706  100581   67303   79139   84784  130376   33500\n",
      "   22053   78432  270000    7200  117500   78500  115717    4000   26432\n",
      "   46702   46706   53523   56365   49563   56432   52365   53512   46533\n",
      "   58632   65300   39395  230000   32500   64800  248000   66444  218463\n",
      "  153000   87185  137000    3564   48756   80322  173000  148000    6500\n",
      "  220000  108957   22200  260000   42108   79000   17100   43001  100600\n",
      "   92385  116000   72500   82500   50600  121000  101903   85568    3100\n",
      "  186000   59300   89322   48300   23511   22512   62900   52442   34156\n",
      "   34152   62841   38600   27654   48698   32995   90150   85700   25339\n",
      "   41232   68240   92651   88754   23700   69500   28050   22947    7672\n",
      "   36659   44500    9900  124316    6544   49600  198000  103994   35008\n",
      "   31100   42312   54891   18890   75010    4337   14495   83585   48406\n",
      "   56239   33243   15858   87847   87000  112072   52269   15780 2360457\n",
      "  108800   12500  577414  121941  152186   82246   89580    2789   35278\n",
      "    2860   78562   36088  129000  500000  133000   64500   24500   45500\n",
      "   71500   93500    8500   60300   44391   56315   15151  114321   37333\n",
      "  330000  291000   21500  197000   40300   30030   29029   72072   82082\n",
      "   80600   58609   33003  165500    5800   68700  102996   96500   52412\n",
      "   85472   87452   66530   32331  172000   23456  136500  111000   42500\n",
      "   47200  246000    5200   10500   93331  109000    5400  102000   29700\n",
      "    7600   29340   80800   24265   56900   88200    7500   40800    8588\n",
      "  305000  212000  101200  179150   84487  264000   51146  298000  149000\n",
      "  291977   36800   52200  248200    7720   57882  242000   55380   18816\n",
      "   33019   47747   45900   68697  147279   24700   43526   55885   16034\n",
      "  156040   93415  122000   68519   22966    2350   59872   91182   59500\n",
      "   75500  152500   69123   77524   40523  290000   24177  121779   15381\n",
      "   74800  109322  475000   61000   80500   65755    2600   15500   50700\n",
      "  440000  152000  200400    7300    9750  157138  285000  127991   13120\n",
      "   87500   62200   87540  231438  239451  154000  426000  182000  215000\n",
      "   77300   61260   17601    4773   57900    8600   78010   83844   23999\n",
      "   91400  178500   66953  166000  131000  100750   48676   79500  200185\n",
      "   49025   76460   47370   45217  222300   44600   28080   28800   21900\n",
      "   28100    7673   96272   22500    7400  370000  150360   42130  147500\n",
      "   56194   54188   54043   66657   35582   54327    7949   59734   49185\n",
      "   56389   58245   36422   42535   40736   56246   55403  105358   49200\n",
      "   81500    3177   39414   30078   44588   49907   67082  112879   10200\n",
      "    1300  175802  192000   73840  320000   24857   26442   50800   40142\n",
      "    9400   12584    4300   14548   44772   48500   28782   28451   36500\n",
      "   44885  131111   58400   23400    3010  163000   77088  136511   36710\n",
      "   28180   44077   55768  123278   26500   18484    2560  103655   56975\n",
      "  187000  218000   73257   26320   38426  116700  176062   77500   39500\n",
      "   55896   30400  164000  271000   75262   91863   47552   14700   19700\n",
      "  145241   95500   53473   75958   31596   85710  129627   55130   22522\n",
      "   51856   29434   34500    6825  112011   53534  248119   24019   19600\n",
      "  376412  183000  108916   59865   68140   53190   70100   47725   70195\n",
      "   77395   74321   80235   77150   61100   82300   82050   29899   59235\n",
      "  201000   77215   48228   58559   50856   18300   59292   21147   61173\n",
      "   91567   33400   92686   67600   49500  112048   30646   43011  104300\n",
      "   73500  280000   35700   22700   21871   55425   37659   37500   19800\n",
      "   45629   68850   45775   68203   97343   82507   59400  125876   56800\n",
      "   65204    2286   15732   49523   36521   64481   49060   37161   60175\n",
      "   49957   43235   50699       1   50074   30154   26263   84925   46357\n",
      "   46737  110048  186388   20171   37151   58161   50171   55161    9599\n",
      "   16151   28161   80868  194000  191000]\n",
      "================================================\n",
      "Unique values of fuel\n",
      "['Diesel' 'Petrol' 'LPG' 'CNG']\n",
      "================================================\n",
      "Unique values of seller_type\n",
      "['Individual' 'Dealer' 'Trustmark Dealer']\n",
      "================================================\n",
      "Unique values of transmission\n",
      "['Manual' 'Automatic']\n",
      "================================================\n",
      "Unique values of owner\n",
      "['First Owner' 'Second Owner' 'Third Owner' 'Fourth & Above Owner'\n",
      " 'Test Drive Car']\n",
      "================================================\n",
      "Unique values of mileage\n",
      "['23.4 kmpl' '21.14 kmpl' '17.7 kmpl' '23.0 kmpl' '16.1 kmpl' '20.14 kmpl'\n",
      " '17.3 km/kg' '23.59 kmpl' '20.0 kmpl' '19.01 kmpl' '17.3 kmpl'\n",
      " '19.3 kmpl' '18.9 kmpl' '18.15 kmpl' '24.52 kmpl' '19.7 kmpl'\n",
      " '22.54 kmpl' '21.0 kmpl' '25.5 kmpl' '26.59 kmpl' '21.5 kmpl' '20.3 kmpl'\n",
      " '21.4 kmpl' '24.7 kmpl' '18.2 kmpl' '16.8 kmpl' '24.3 kmpl' '14.0 kmpl'\n",
      " '18.6 kmpl' '33.44 km/kg' '23.95 kmpl' '17.0 kmpl' '20.63 kmpl'\n",
      " '13.93 kmpl' '16.0 kmpl' '17.8 kmpl' '18.5 kmpl' '12.55 kmpl'\n",
      " '12.99 kmpl' '14.8 kmpl' '13.5 kmpl' '26.0 kmpl' '20.65 kmpl' '27.3 kmpl'\n",
      " '11.36 kmpl' '17.68 kmpl' '14.28 kmpl' '18.53 kmpl' '14.84 kmpl'\n",
      " '21.12 kmpl' '20.36 kmpl' '21.27 kmpl' '18.16 kmpl' '22.0 kmpl'\n",
      " '25.1 kmpl' '20.51 kmpl' '21.66 kmpl' '25.2 kmpl' '22.9 kmpl'\n",
      " '16.02 kmpl' '20.54 kmpl' '22.77 kmpl' '15.71 kmpl' '23.1 kmpl'\n",
      " '19.02 kmpl' '19.81 kmpl' '26.2 km/kg' '16.47 kmpl' '15.04 kmpl'\n",
      " '19.1 kmpl' '21.79 kmpl' '18.8 kmpl' '21.21 kmpl' '15.37 kmpl'\n",
      " '11.79 kmpl' '19.0 kmpl' '14.3 kmpl' '15.8 kmpl' '15.1 kmpl' '19.09 kmpl'\n",
      " '22.32 kmpl' '21.9 kmpl' '14.53 kmpl' '21.63 kmpl' '20.85 kmpl'\n",
      " '20.45 kmpl' '19.67 kmpl' '23.01 kmpl' '20.77 kmpl' '17.92 kmpl'\n",
      " '17.01 kmpl' '19.33 kmpl' '9.5 kmpl' '12.83 kmpl' '22.48 kmpl'\n",
      " '14.67 kmpl' '15.0 kmpl' '13.96 kmpl' '18.0 kmpl' '12.07 kmpl'\n",
      " '26.21 kmpl' '10.8 kmpl' '16.3 kmpl' '13.6 kmpl' '14.74 kmpl' '15.6 kmpl'\n",
      " '19.56 kmpl' '22.69 kmpl' '19.16 kmpl' '18.12 kmpl' '12.1 kmpl'\n",
      " '17.5 kmpl' '20.4 kmpl' '21.1 kmpl' '19.44 kmpl' '13.0 kmpl' '21.43 kmpl'\n",
      " '22.95 kmpl' '16.2 kmpl' '15.3 kmpl' '28.09 kmpl' '17.4 kmpl' '19.4 kmpl'\n",
      " '26.6 km/kg' '17.6 kmpl' '28.4 kmpl' '14.1 kmpl' '25.17 kmpl'\n",
      " '22.74 kmpl' '17.57 kmpl' '16.95 kmpl' '19.49 kmpl' '17.21 kmpl'\n",
      " '13.2 kmpl' '14.2 kmpl' '26.8 kmpl' '25.4 kmpl' '11.5 kmpl' '27.28 kmpl'\n",
      " '17.97 kmpl' '12.8 kmpl' '16.55 kmpl' '12.05 kmpl' '14.07 kmpl'\n",
      " '21.02 kmpl' '11.57 kmpl' '17.9 kmpl' '15.96 kmpl' '17.1 kmpl'\n",
      " '17.19 kmpl' '21.01 kmpl' '24.0 kmpl' '25.6 kmpl' '21.38 kmpl'\n",
      " '23.84 kmpl' '23.08 kmpl' '14.24 kmpl' '20.71 kmpl' '15.64 kmpl'\n",
      " '14.5 kmpl' '16.34 kmpl' '27.39 kmpl' '16.78 kmpl' '11.1 kmpl'\n",
      " '13.9 kmpl' '20.88 km/kg' '20.92 kmpl' '23.8 kmpl' '24.4 kmpl'\n",
      " '15.29 kmpl' '21.19 kmpl' '22.5 kmpl' '19.6 kmpl' '23.65 kmpl'\n",
      " '25.32 kmpl' '23.5 kmpl' '16.6 kmpl' '23.9 kmpl' '20.8 kmpl' '27.62 kmpl'\n",
      " '12.9 kmpl' '25.44 kmpl' '17.88 kmpl' '22.7 kmpl' '17.2 kmpl'\n",
      " '15.42 kmpl' '19.68 kmpl' '18.7 kmpl' '15.4 kmpl' '19.34 kmpl'\n",
      " '22.71 kmpl' '25.8 kmpl' '13.7 kmpl' '12.2 kmpl' '18.49 kmpl' '9.0 kmpl'\n",
      " '0.0 kmpl' '13.58 kmpl' '10.1 kmpl' '20.5 kmpl' '25.0 kmpl' '10.5 kmpl'\n",
      " '22.07 kmpl' '22.3 kmpl' '15.26 kmpl' '20.62 kmpl' '27.4 kmpl'\n",
      " '23.2 kmpl' '14.4 kmpl' '18.4 kmpl' '30.46 km/kg' '14.02 kmpl'\n",
      " '11.0 kmpl' '20.6 kmpl' '22.05 kmpl' '20.2 kmpl' '18.1 kmpl' '22.1 kmpl'\n",
      " '19.87 kmpl' '13.01 kmpl' '18.06 kmpl' '26.1 kmpl' '16.52 kmpl'\n",
      " '13.55 kmpl' '24.2 kmpl' '25.83 kmpl' '11.2 kmpl' '21.03 kmpl'\n",
      " '17.45 kmpl' '21.64 kmpl' '21.94 km/kg' '13.87 kmpl' '19.98 kmpl'\n",
      " '20.52 kmpl' '23.57 kmpl' '11.7 kmpl' '17.43 kmpl' '18.88 kmpl'\n",
      " '13.68 kmpl' '11.18 kmpl' '20.89 kmpl' '11.8 kmpl' '19.62 kmpl'\n",
      " '21.7 kmpl' '14.9 kmpl' '19.5 kmpl' '10.91 kmpl' '15.7 kmpl' '20.73 kmpl'\n",
      " '15.85 kmpl' '20.7 kmpl' '14.23 kmpl' '16.5 kmpl' '17.36 kmpl'\n",
      " '12.6 kmpl' '16.36 kmpl' '14.95 kmpl' '16.9 kmpl' '19.2 kmpl'\n",
      " '16.96 kmpl' '22.15 kmpl' '18.78 kmpl' '19.61 kmpl' '17.71 kmpl'\n",
      " '18.3 kmpl' '19.12 kmpl' '19.72 kmpl' '12.0 kmpl' '11.4 kmpl'\n",
      " '23.03 kmpl' '11.07 kmpl' '15.9 kmpl' '17.67 kmpl' '20.46 kmpl'\n",
      " '13.1 kmpl' '13.45 km/kg' '24.8 kmpl' '15.73 kmpl' '15.11 kmpl'\n",
      " '12.7 kmpl' '21.2 kmpl' '20.38 kmpl' '21.56 kmpl' '13.22 kmpl'\n",
      " '14.49 kmpl' '15.05 kmpl' '23.26 kmpl' '15.41 kmpl' '13.8 kmpl'\n",
      " '22.27 kmpl' '32.52 km/kg' '14.66 kmpl' '12.12 kmpl' '16.84 kmpl'\n",
      " '14.09 kmpl' '14.7 kmpl' '13.4 kmpl' '15.5 kmpl' '13.49 kmpl'\n",
      " '11.88 km/kg' '14.6 kmpl' '10.75 kmpl' '24.5 kmpl' '11.74 kmpl'\n",
      " '16.07 kmpl' '15.63 kmpl' '26.3 km/kg' '23.7 km/kg' '25.47 kmpl'\n",
      " '17.05 kmpl' '23.3 kmpl' '11.9 kmpl' '20.86 kmpl' '19.2 km/kg'\n",
      " '10.9 kmpl' '18.25 kmpl' '15.2 kmpl' '20.37 kmpl' '17.8 km/kg'\n",
      " '21.8 kmpl' '11.96 kmpl' '24.04 kmpl' '19.69 kmpl' '13.73 kmpl'\n",
      " '21.04 kmpl' '25.01 kmpl' '10.93 kmpl' '10.9 km/kg' '24.29 kmpl'\n",
      " '13.44 kmpl' '20.07 kmpl' '21.1 km/kg' '19.08 kmpl' '20.34 kmpl'\n",
      " '11.68 kmpl' '12.5 kmpl' '12.3 kmpl' '23.87 kmpl' '16.38 kmpl'\n",
      " '17.42 kmpl' '10.0 kmpl' '18.24 kmpl' '10.71 kmpl' '19.59 kmpl'\n",
      " '16.7 kmpl' '19.83 kmpl' '21.76 kmpl' '16.05 kmpl' '20.28 kmpl'\n",
      " '16.25 kmpl' '16.73 kmpl' '18.48 kmpl' '13.2 km/kg' '21.4 km/kg'\n",
      " '14.99 kmpl' '18.76 kmpl' '16.4 kmpl' '19.64 kmpl' '14.94 kmpl'\n",
      " '16.6 km/kg' '16.0 km/kg' '17.11 kmpl' '22.8 km/kg' '32.26 km/kg'\n",
      " '33.0 km/kg' '12.4 kmpl' '18.44 kmpl' '16.09 kmpl' '19.0 km/kg'\n",
      " '12.62 kmpl' '21.13 kmpl' '15.17 kmpl' '21.73 kmpl' '21.72 kmpl'\n",
      " '12.85 kmpl' '14.81 kmpl' '13.24 kmpl' '14.4 km/kg' '21.49 kmpl'\n",
      " '14.62 kmpl' '26.83 km/kg' '11.45 kmpl' '12.08 kmpl' '15.74 kmpl'\n",
      " '11.3 kmpl' '15.1 km/kg' '14.21 kmpl' '11.72 kmpl' '16.51 kmpl']\n",
      "================================================\n",
      "Unique values of engine\n",
      "['1248 CC' '1498 CC' '1497 CC' '1396 CC' '1298 CC' '1197 CC' '1061 CC'\n",
      " '796 CC' '1364 CC' '1399 CC' '1461 CC' '993 CC' '1198 CC' '1199 CC'\n",
      " '998 CC' '1591 CC' '2179 CC' '1368 CC' '2982 CC' '2494 CC' '2143 CC'\n",
      " '2477 CC' '1462 CC' '2755 CC' '1968 CC' '1798 CC' '1196 CC' '1373 CC'\n",
      " '1598 CC' '1998 CC' '1086 CC' '1194 CC' '1172 CC' '1405 CC' '1582 CC'\n",
      " '999 CC' '1999 CC' '3604 CC' '1995 CC' '1451 CC' '1969 CC' '2967 CC'\n",
      " '2497 CC' '1797 CC' '1991 CC' '2362 CC' '1493 CC' '1599 CC' '1341 CC'\n",
      " '1794 CC' '799 CC' '1193 CC' '2696 CC' '1495 CC' '1186 CC' '1047 CC'\n",
      " '2498 CC' '2956 CC' '2523 CC' '1120 CC' '624 CC' '1496 CC' '1984 CC'\n",
      " '2354 CC' '814 CC' '793 CC' '1799 CC' '936 CC' '1956 CC' '1997 CC'\n",
      " '1499 CC' '1948 CC' '2997 CC' '2489 CC' '2499 CC' '2609 CC' '2953 CC'\n",
      " '1150 CC' '1994 CC' '1388 CC' '1527 CC' '2199 CC' '995 CC' '2993 CC'\n",
      " '1586 CC' '1390 CC' '909 CC' '2393 CC' '3198 CC' '1339 CC' '2987 CC'\n",
      " '2835 CC' '2092 CC' '1595 CC' '2496 CC' '1596 CC' '1597 CC' '2596 CC'\n",
      " '2148 CC' '1299 CC' '1590 CC' '2231 CC' '2694 CC' '2200 CC' '1795 CC'\n",
      " '1896 CC' '1796 CC' '1422 CC' '1489 CC' '2359 CC' '2197 CC' '2999 CC'\n",
      " '1781 CC' '2650 CC' '1343 CC' '2446 CC' '3498 CC' '2198 CC' '2776 CC'\n",
      " '1950 CC']\n",
      "================================================\n",
      "Unique values of max_power\n",
      "['74 bhp' '103.52 bhp' '78 bhp' '90 bhp' '88.2 bhp' '81.86 bhp' '57.5 bhp'\n",
      " '37 bhp' '67.1 bhp' '68.1 bhp' '108.45 bhp' '60 bhp' '73.9 bhp' '67 bhp'\n",
      " '82 bhp' '88.5 bhp' '46.3 bhp' '88.73 bhp' '64.1 bhp' '98.6 bhp'\n",
      " '88.8 bhp' '83.81 bhp' '83.1 bhp' '47.3 bhp' '73.8 bhp' '34.2 bhp'\n",
      " '35 bhp' '81.83 bhp' '40.3 bhp' '121.3 bhp' '138.03 bhp' '160.77 bhp'\n",
      " '117.3 bhp' '116.3 bhp' '83.14 bhp' '67.05 bhp' '168.5 bhp' '100 bhp'\n",
      " '120.7 bhp' '98.63 bhp' '175.56 bhp' '103.25 bhp' '171.5 bhp' '100.6 bhp'\n",
      " '174.33 bhp' '187.74 bhp' '170 bhp' '78.9 bhp' '88.76 bhp' '86.8 bhp'\n",
      " '108.495 bhp' '108.62 bhp' '93.7 bhp' '103.6 bhp' '98.59 bhp' '189 bhp'\n",
      " '67.04 bhp' '68.05 bhp' '58.2 bhp' '82.85 bhp' '81.80 bhp' '73 bhp'\n",
      " '120 bhp' '94.68 bhp' '160 bhp' '65 bhp' '155 bhp' '69.01 bhp'\n",
      " '126.32 bhp' '138.1 bhp' '83.8 bhp' '126.2 bhp' '98.96 bhp' '62.1 bhp'\n",
      " '86.7 bhp' '188 bhp' '177 bhp' '280 bhp' '148.31 bhp' '177.46 bhp'\n",
      " '204 bhp' '141 bhp' '117.6 bhp' '190 bhp' '241.4 bhp' '150 bhp'\n",
      " '147.5 bhp' '108.5 bhp' '103.5 bhp' '183 bhp' '181.04 bhp' '157.7 bhp'\n",
      " '164.7 bhp' '91.1 bhp' '68 bhp' '75 bhp' '85.8 bhp' '87.2 bhp' '53 bhp'\n",
      " '118 bhp' '103.2 bhp' '83 bhp' '84 bhp' '58.16 bhp' '147.94 bhp'\n",
      " '74.02 bhp' '53.3 bhp' '80 bhp' '88.7 bhp' '97.7 bhp' '121.36 bhp'\n",
      " '162 bhp' '140 bhp' '94 bhp' '100.57 bhp' '82.9 bhp' '83.11 bhp' '70 bhp'\n",
      " '153.86 bhp' '121 bhp' '126.3 bhp' '73.97 bhp' '171 bhp' '69 bhp'\n",
      " '99.6 bhp' '102 bhp' '105 bhp' '63 bhp' '79.4 bhp' '97.9 bhp' '63.1 bhp'\n",
      " '66.1 bhp' '110 bhp' '174.5 bhp' '53.26 bhp' '73.75 bhp' '67.06 bhp'\n",
      " '64.08 bhp' '37.5 bhp' '189.3 bhp' '158.8 bhp' '61.7 bhp' '55.2 bhp'\n",
      " '71.01 bhp' '73.74 bhp' '147.9 bhp' '71 bhp' '77 bhp' '121.4 bhp'\n",
      " '113.4 bhp' '47 bhp' '130 bhp' '57.6 bhp' '138 bhp' '52.8 bhp'\n",
      " '53.64 bhp' '53.5 bhp' '76.8 bhp' '82.4 bhp' '113.42 bhp' '76 bhp'\n",
      " '84.8 bhp' '56.3 bhp' '218 bhp' '112 bhp' '92 bhp' '105.5 bhp' '169 bhp'\n",
      " '95 bhp' '72.4 bhp' '115 bhp' '152 bhp' '91.2 bhp' '156 bhp' '74.9 bhp'\n",
      " '62 bhp' '105.3 bhp' '73.94 bhp' '85.80 bhp' '85 bhp' '118.3 bhp'\n",
      " '72 bhp' '147.51 bhp' '58 bhp' '64 bhp' '126.24 bhp' '76.9 bhp'\n",
      " '194.3 bhp' '99.23 bhp' '89.84 bhp' '123.7 bhp' '118.35 bhp' '99 bhp'\n",
      " '241 bhp' '136 bhp' '104.68 bhp' '37.48 bhp' '104 bhp' '88.50 bhp'\n",
      " '63.12 bhp' '91.7 bhp' '102.5 bhp' '177.6 bhp' '45 bhp' '123.37 bhp'\n",
      " '147.8 bhp' '184 bhp' '84.48 bhp' '68.07 bhp' '74.96 bhp' '167.6 bhp'\n",
      " '152.87 bhp' '112.2 bhp' '83.83 bhp' '197 bhp' '110.4 bhp' '104.55 bhp'\n",
      " '103 bhp' '103.3 bhp' '66 bhp' '108.6 bhp' '165 bhp' '163.7 bhp'\n",
      " '116.9 bhp' '94.93 bhp' '127 bhp' '198.5 bhp' '179.5 bhp' '120.69 bhp'\n",
      " '121.31 bhp' '138.08 bhp' '187.7 bhp' '80.8 bhp' '86.79 bhp' '93.87 bhp'\n",
      " '116.6 bhp' '143 bhp' '92.7 bhp' '88 bhp' '58.33 bhp' '78.8 bhp'\n",
      " '64.4 bhp' '125 bhp' '139.01 bhp' '254.8 bhp' '181 bhp' '258 bhp'\n",
      " '55.23 bhp' '270.9 bhp' '157.75 bhp' '101 bhp' '186 bhp' '187.4 bhp'\n",
      " '224 bhp' '64.9 bhp' '148 bhp' '35.5 bhp' '89.75 bhp' '32.8 bhp'\n",
      " '91.72 bhp' '106 bhp' '98.97 bhp' '66.6 bhp' '86 bhp' '65.3 bhp'\n",
      " '98.82 bhp' '198.25 bhp' '38 bhp' '142 bhp' '132 bhp' '174.57 bhp'\n",
      " '178 bhp' '163.2 bhp' '203.2 bhp' '177.5 bhp' '175 bhp' '57 bhp'\n",
      " '80.84 bhp' '68.4 bhp' '167.67 bhp' '170.63 bhp' '52 bhp' '149.5 bhp'\n",
      " '48.21 bhp' '201.1 bhp' '100.5 bhp' '144 bhp' '168.7 bhp' '104.5 bhp'\n",
      " '103.26 bhp' '116.4 bhp' '98.79 bhp' '80.9 bhp' '58.3 bhp' '272 bhp'\n",
      " '235 bhp' '167.62 bhp' '170.30 bhp' '139.46 bhp' '158 bhp' '110.5 bhp'\n",
      " '82.5 bhp' '141.1 bhp' '38.4 bhp' '197.2 bhp' '161 bhp' '194 bhp'\n",
      " '122.4 bhp' '134.10 bhp' '60.2 bhp' '134 bhp' '203 bhp' '135.1 bhp']\n",
      "================================================\n",
      "Unique values of seats\n",
      "[ 5.  4.  7.  8.  6.  9. 10. 14.  2.]\n",
      "================================================\n",
      "Unique values of Age\n",
      "[10 18 14 17  7 23 13 11 19 15  8 12 22  9  6  5 16  4 25 24 21 20 30 26\n",
      " 27 29 28]\n",
      "================================================\n"
     ]
    }
   ],
   "source": [
    "for col in data.columns:\n",
    "    print(\"Unique values of\", col)\n",
    "    print(data[col].unique())\n",
    "    print(\"================================================\")\n"
   ]
  },
  {
   "cell_type": "code",
   "execution_count": 33,
   "metadata": {},
   "outputs": [],
   "source": [
    "data['name'] = data['name'].str.split().str[0]\n"
   ]
  },
  {
   "cell_type": "code",
   "execution_count": 34,
   "metadata": {},
   "outputs": [],
   "source": [
    "data['mileage'] = data['mileage'].str.split().str[0].astype(float)\n"
   ]
  },
  {
   "cell_type": "code",
   "execution_count": 35,
   "metadata": {},
   "outputs": [],
   "source": [
    "\n",
    "data['engine'] = data['engine'].str.split().str[0].astype(float)"
   ]
  },
  {
   "cell_type": "code",
   "execution_count": 36,
   "metadata": {},
   "outputs": [],
   "source": [
    "data['max_power'] = data['max_power'].str.split().str[0].astype(float)\n"
   ]
  },
  {
   "cell_type": "code",
   "execution_count": 37,
   "metadata": {},
   "outputs": [
    {
     "data": {
      "text/html": [
       "<div>\n",
       "<style scoped>\n",
       "    .dataframe tbody tr th:only-of-type {\n",
       "        vertical-align: middle;\n",
       "    }\n",
       "\n",
       "    .dataframe tbody tr th {\n",
       "        vertical-align: top;\n",
       "    }\n",
       "\n",
       "    .dataframe thead th {\n",
       "        text-align: right;\n",
       "    }\n",
       "</style>\n",
       "<table border=\"1\" class=\"dataframe\">\n",
       "  <thead>\n",
       "    <tr style=\"text-align: right;\">\n",
       "      <th></th>\n",
       "      <th>name</th>\n",
       "      <th>selling_price</th>\n",
       "      <th>km_driven</th>\n",
       "      <th>fuel</th>\n",
       "      <th>seller_type</th>\n",
       "      <th>transmission</th>\n",
       "      <th>owner</th>\n",
       "      <th>mileage</th>\n",
       "      <th>engine</th>\n",
       "      <th>max_power</th>\n",
       "      <th>seats</th>\n",
       "      <th>Age</th>\n",
       "    </tr>\n",
       "  </thead>\n",
       "  <tbody>\n",
       "    <tr>\n",
       "      <th>0</th>\n",
       "      <td>Maruti</td>\n",
       "      <td>450000</td>\n",
       "      <td>145500</td>\n",
       "      <td>Diesel</td>\n",
       "      <td>Individual</td>\n",
       "      <td>Manual</td>\n",
       "      <td>First Owner</td>\n",
       "      <td>23.40</td>\n",
       "      <td>1248.0</td>\n",
       "      <td>74.00</td>\n",
       "      <td>5.0</td>\n",
       "      <td>10</td>\n",
       "    </tr>\n",
       "    <tr>\n",
       "      <th>1</th>\n",
       "      <td>Skoda</td>\n",
       "      <td>370000</td>\n",
       "      <td>120000</td>\n",
       "      <td>Diesel</td>\n",
       "      <td>Individual</td>\n",
       "      <td>Manual</td>\n",
       "      <td>Second Owner</td>\n",
       "      <td>21.14</td>\n",
       "      <td>1498.0</td>\n",
       "      <td>103.52</td>\n",
       "      <td>5.0</td>\n",
       "      <td>10</td>\n",
       "    </tr>\n",
       "    <tr>\n",
       "      <th>2</th>\n",
       "      <td>Honda</td>\n",
       "      <td>158000</td>\n",
       "      <td>140000</td>\n",
       "      <td>Petrol</td>\n",
       "      <td>Individual</td>\n",
       "      <td>Manual</td>\n",
       "      <td>Third Owner</td>\n",
       "      <td>17.70</td>\n",
       "      <td>1497.0</td>\n",
       "      <td>78.00</td>\n",
       "      <td>5.0</td>\n",
       "      <td>18</td>\n",
       "    </tr>\n",
       "    <tr>\n",
       "      <th>3</th>\n",
       "      <td>Hyundai</td>\n",
       "      <td>225000</td>\n",
       "      <td>127000</td>\n",
       "      <td>Diesel</td>\n",
       "      <td>Individual</td>\n",
       "      <td>Manual</td>\n",
       "      <td>First Owner</td>\n",
       "      <td>23.00</td>\n",
       "      <td>1396.0</td>\n",
       "      <td>90.00</td>\n",
       "      <td>5.0</td>\n",
       "      <td>14</td>\n",
       "    </tr>\n",
       "    <tr>\n",
       "      <th>4</th>\n",
       "      <td>Maruti</td>\n",
       "      <td>130000</td>\n",
       "      <td>120000</td>\n",
       "      <td>Petrol</td>\n",
       "      <td>Individual</td>\n",
       "      <td>Manual</td>\n",
       "      <td>First Owner</td>\n",
       "      <td>16.10</td>\n",
       "      <td>1298.0</td>\n",
       "      <td>88.20</td>\n",
       "      <td>5.0</td>\n",
       "      <td>17</td>\n",
       "    </tr>\n",
       "  </tbody>\n",
       "</table>\n",
       "</div>"
      ],
      "text/plain": [
       "      name  selling_price  km_driven    fuel seller_type transmission   \n",
       "0   Maruti         450000     145500  Diesel  Individual       Manual  \\\n",
       "1    Skoda         370000     120000  Diesel  Individual       Manual   \n",
       "2    Honda         158000     140000  Petrol  Individual       Manual   \n",
       "3  Hyundai         225000     127000  Diesel  Individual       Manual   \n",
       "4   Maruti         130000     120000  Petrol  Individual       Manual   \n",
       "\n",
       "          owner  mileage  engine  max_power  seats  Age  \n",
       "0   First Owner    23.40  1248.0      74.00    5.0   10  \n",
       "1  Second Owner    21.14  1498.0     103.52    5.0   10  \n",
       "2   Third Owner    17.70  1497.0      78.00    5.0   18  \n",
       "3   First Owner    23.00  1396.0      90.00    5.0   14  \n",
       "4   First Owner    16.10  1298.0      88.20    5.0   17  "
      ]
     },
     "execution_count": 37,
     "metadata": {},
     "output_type": "execute_result"
    }
   ],
   "source": [
    "data.head()"
   ]
  },
  {
   "cell_type": "markdown",
   "metadata": {},
   "source": [
    "#### Encoding the Categorical Columns"
   ]
  },
  {
   "cell_type": "code",
   "execution_count": 38,
   "metadata": {},
   "outputs": [
    {
     "data": {
      "text/html": [
       "<div>\n",
       "<style scoped>\n",
       "    .dataframe tbody tr th:only-of-type {\n",
       "        vertical-align: middle;\n",
       "    }\n",
       "\n",
       "    .dataframe tbody tr th {\n",
       "        vertical-align: top;\n",
       "    }\n",
       "\n",
       "    .dataframe thead th {\n",
       "        text-align: right;\n",
       "    }\n",
       "</style>\n",
       "<table border=\"1\" class=\"dataframe\">\n",
       "  <thead>\n",
       "    <tr style=\"text-align: right;\">\n",
       "      <th></th>\n",
       "      <th>name</th>\n",
       "      <th>selling_price</th>\n",
       "      <th>km_driven</th>\n",
       "      <th>fuel</th>\n",
       "      <th>seller_type</th>\n",
       "      <th>transmission</th>\n",
       "      <th>owner</th>\n",
       "      <th>mileage</th>\n",
       "      <th>engine</th>\n",
       "      <th>max_power</th>\n",
       "      <th>seats</th>\n",
       "      <th>Age</th>\n",
       "    </tr>\n",
       "  </thead>\n",
       "  <tbody>\n",
       "    <tr>\n",
       "      <th>0</th>\n",
       "      <td>Maruti</td>\n",
       "      <td>450000</td>\n",
       "      <td>145500</td>\n",
       "      <td>Diesel</td>\n",
       "      <td>Individual</td>\n",
       "      <td>Manual</td>\n",
       "      <td>First Owner</td>\n",
       "      <td>23.4</td>\n",
       "      <td>1248.0</td>\n",
       "      <td>74.0</td>\n",
       "      <td>5.0</td>\n",
       "      <td>10</td>\n",
       "    </tr>\n",
       "  </tbody>\n",
       "</table>\n",
       "</div>"
      ],
      "text/plain": [
       "     name  selling_price  km_driven    fuel seller_type transmission   \n",
       "0  Maruti         450000     145500  Diesel  Individual       Manual  \\\n",
       "\n",
       "         owner  mileage  engine  max_power  seats  Age  \n",
       "0  First Owner     23.4  1248.0       74.0    5.0   10  "
      ]
     },
     "execution_count": 38,
     "metadata": {},
     "output_type": "execute_result"
    }
   ],
   "source": [
    "data.head(1)"
   ]
  },
  {
   "cell_type": "code",
   "execution_count": 39,
   "metadata": {},
   "outputs": [
    {
     "data": {
      "text/plain": [
       "array(['Diesel', 'Petrol', 'LPG', 'CNG'], dtype=object)"
      ]
     },
     "execution_count": 39,
     "metadata": {},
     "output_type": "execute_result"
    }
   ],
   "source": [
    "data['fuel'].unique()"
   ]
  },
  {
   "cell_type": "code",
   "execution_count": 40,
   "metadata": {},
   "outputs": [],
   "source": [
    "data['fuel'].replace(['Diesel', 'Petrol', 'LPG', 'CNG'],[1,2,3,4] ,inplace= True)"
   ]
  },
  {
   "cell_type": "code",
   "execution_count": 41,
   "metadata": {},
   "outputs": [
    {
     "data": {
      "text/plain": [
       "array([1, 2, 3, 4], dtype=int64)"
      ]
     },
     "execution_count": 41,
     "metadata": {},
     "output_type": "execute_result"
    }
   ],
   "source": [
    "data['fuel'].unique()"
   ]
  },
  {
   "cell_type": "code",
   "execution_count": 42,
   "metadata": {},
   "outputs": [
    {
     "data": {
      "text/plain": [
       "array(['Individual', 'Dealer', 'Trustmark Dealer'], dtype=object)"
      ]
     },
     "execution_count": 42,
     "metadata": {},
     "output_type": "execute_result"
    }
   ],
   "source": [
    "data['seller_type'].unique()"
   ]
  },
  {
   "cell_type": "code",
   "execution_count": 43,
   "metadata": {},
   "outputs": [],
   "source": [
    "data['seller_type'].replace(['Individual', 'Dealer', 'Trustmark Dealer'],[1,2,3] ,inplace= True)"
   ]
  },
  {
   "cell_type": "code",
   "execution_count": 44,
   "metadata": {},
   "outputs": [
    {
     "data": {
      "text/plain": [
       "array([1, 2, 3], dtype=int64)"
      ]
     },
     "execution_count": 44,
     "metadata": {},
     "output_type": "execute_result"
    }
   ],
   "source": [
    "data['seller_type'].unique()"
   ]
  },
  {
   "cell_type": "code",
   "execution_count": 45,
   "metadata": {},
   "outputs": [
    {
     "data": {
      "text/plain": [
       "array(['Manual', 'Automatic'], dtype=object)"
      ]
     },
     "execution_count": 45,
     "metadata": {},
     "output_type": "execute_result"
    }
   ],
   "source": [
    "data['transmission'].unique()"
   ]
  },
  {
   "cell_type": "code",
   "execution_count": 46,
   "metadata": {},
   "outputs": [],
   "source": [
    "data['transmission'] =data['transmission'].map({'Manual':0,'Automatic':1})"
   ]
  },
  {
   "cell_type": "code",
   "execution_count": 47,
   "metadata": {},
   "outputs": [
    {
     "data": {
      "text/plain": [
       "array([0, 1], dtype=int64)"
      ]
     },
     "execution_count": 47,
     "metadata": {},
     "output_type": "execute_result"
    }
   ],
   "source": [
    "data['transmission'].unique()"
   ]
  },
  {
   "cell_type": "code",
   "execution_count": 48,
   "metadata": {},
   "outputs": [
    {
     "data": {
      "text/plain": [
       "array(['Maruti', 'Skoda', 'Honda', 'Hyundai', 'Toyota', 'Ford', 'Renault',\n",
       "       'Mahindra', 'Tata', 'Chevrolet', 'Datsun', 'Jeep', 'Mercedes-Benz',\n",
       "       'Mitsubishi', 'Audi', 'Volkswagen', 'BMW', 'Nissan', 'Jaguar',\n",
       "       'Land', 'MG', 'Volvo', 'Daewoo', 'Kia', 'Fiat', 'Force',\n",
       "       'Ambassador', 'Ashok', 'Isuzu', 'Opel'], dtype=object)"
      ]
     },
     "execution_count": 48,
     "metadata": {},
     "output_type": "execute_result"
    }
   ],
   "source": [
    "data['name'].unique()"
   ]
  },
  {
   "cell_type": "code",
   "execution_count": 49,
   "metadata": {},
   "outputs": [],
   "source": [
    "count = data['name'].nunique()\n",
    "\n"
   ]
  },
  {
   "cell_type": "code",
   "execution_count": 50,
   "metadata": {},
   "outputs": [],
   "source": [
    "\n",
    "data['name'].replace(['Maruti', 'Skoda', 'Honda', 'Hyundai', 'Toyota', 'Ford', 'Renault',\n",
    "       'Mahindra', 'Tata', 'Chevrolet', 'Datsun', 'Jeep', 'Mercedes-Benz',\n",
    "       'Mitsubishi', 'Audi', 'Volkswagen', 'BMW', 'Nissan', 'Jaguar',\n",
    "       'Land', 'MG', 'Volvo', 'Daewoo', 'Kia', 'Fiat', 'Force',\n",
    "       'Ambassador', 'Ashok', 'Isuzu', 'Opel'],list(range(1,count+1)),inplace= True)"
   ]
  },
  {
   "cell_type": "code",
   "execution_count": 51,
   "metadata": {},
   "outputs": [
    {
     "data": {
      "text/plain": [
       "array([ 1,  2,  3,  4,  5,  6,  7,  8,  9, 10, 11, 12, 13, 14, 15, 16, 17,\n",
       "       18, 19, 20, 21, 22, 23, 24, 25, 26, 27, 28, 29, 30], dtype=int64)"
      ]
     },
     "execution_count": 51,
     "metadata": {},
     "output_type": "execute_result"
    }
   ],
   "source": [
    "data['name'].unique()"
   ]
  },
  {
   "cell_type": "code",
   "execution_count": 52,
   "metadata": {},
   "outputs": [
    {
     "data": {
      "text/plain": [
       "array(['First Owner', 'Second Owner', 'Third Owner',\n",
       "       'Fourth & Above Owner', 'Test Drive Car'], dtype=object)"
      ]
     },
     "execution_count": 52,
     "metadata": {},
     "output_type": "execute_result"
    }
   ],
   "source": [
    "data['owner'].unique()"
   ]
  },
  {
   "cell_type": "code",
   "execution_count": 53,
   "metadata": {},
   "outputs": [],
   "source": [
    "data['owner'].replace(['First Owner', 'Second Owner', 'Third Owner',\n",
    "       'Fourth & Above Owner', 'Test Drive Car'],[1,2,3,4,5] ,inplace= True)"
   ]
  },
  {
   "cell_type": "code",
   "execution_count": 54,
   "metadata": {},
   "outputs": [
    {
     "data": {
      "text/plain": [
       "array([1, 2, 3, 4, 5], dtype=int64)"
      ]
     },
     "execution_count": 54,
     "metadata": {},
     "output_type": "execute_result"
    }
   ],
   "source": [
    "data['owner'].unique()"
   ]
  },
  {
   "cell_type": "code",
   "execution_count": 55,
   "metadata": {},
   "outputs": [],
   "source": [
    "data.reset_index(inplace=True)"
   ]
  },
  {
   "cell_type": "code",
   "execution_count": 56,
   "metadata": {},
   "outputs": [],
   "source": [
    "data.drop(columns=['index'],inplace=True)"
   ]
  },
  {
   "cell_type": "markdown",
   "metadata": {},
   "source": [
    "### 8. Store Feature Matrix In X and Response(Target) In Vector y"
   ]
  },
  {
   "cell_type": "code",
   "execution_count": 57,
   "metadata": {},
   "outputs": [],
   "source": [
    "X = data.drop(['selling_price'],axis=1)\n",
    "y = data['selling_price']"
   ]
  },
  {
   "cell_type": "code",
   "execution_count": 58,
   "metadata": {},
   "outputs": [
    {
     "data": {
      "text/plain": [
       "0       450000\n",
       "1       370000\n",
       "2       158000\n",
       "3       225000\n",
       "4       130000\n",
       "         ...  \n",
       "6692    260000\n",
       "6693    475000\n",
       "6694    320000\n",
       "6695    135000\n",
       "6696    382000\n",
       "Name: selling_price, Length: 6697, dtype: int64"
      ]
     },
     "execution_count": 58,
     "metadata": {},
     "output_type": "execute_result"
    }
   ],
   "source": [
    "y"
   ]
  },
  {
   "cell_type": "markdown",
   "metadata": {},
   "source": [
    "### 9. Splitting The Dataset Into The Training Set And Test Set"
   ]
  },
  {
   "cell_type": "code",
   "execution_count": 59,
   "metadata": {},
   "outputs": [],
   "source": [
    "from sklearn.model_selection import train_test_split"
   ]
  },
  {
   "cell_type": "code",
   "execution_count": 60,
   "metadata": {},
   "outputs": [],
   "source": [
    "X_train,X_test,y_train,y_test=train_test_split(X,y,test_size=0.20,random_state=42)"
   ]
  },
  {
   "cell_type": "markdown",
   "metadata": {},
   "source": [
    "### 10. Import The models"
   ]
  },
  {
   "cell_type": "code",
   "execution_count": 61,
   "metadata": {},
   "outputs": [],
   "source": [
    "from sklearn.linear_model import LinearRegression\n",
    "from sklearn.ensemble import RandomForestRegressor\n",
    "from sklearn.ensemble import GradientBoostingRegressor\n",
    "from xgboost import XGBRegressor"
   ]
  },
  {
   "cell_type": "markdown",
   "metadata": {},
   "source": [
    "### 11. Model Training"
   ]
  },
  {
   "cell_type": "code",
   "execution_count": 62,
   "metadata": {},
   "outputs": [
    {
     "data": {
      "text/html": [
       "<style>#sk-container-id-1 {color: black;}#sk-container-id-1 pre{padding: 0;}#sk-container-id-1 div.sk-toggleable {background-color: white;}#sk-container-id-1 label.sk-toggleable__label {cursor: pointer;display: block;width: 100%;margin-bottom: 0;padding: 0.3em;box-sizing: border-box;text-align: center;}#sk-container-id-1 label.sk-toggleable__label-arrow:before {content: \"▸\";float: left;margin-right: 0.25em;color: #696969;}#sk-container-id-1 label.sk-toggleable__label-arrow:hover:before {color: black;}#sk-container-id-1 div.sk-estimator:hover label.sk-toggleable__label-arrow:before {color: black;}#sk-container-id-1 div.sk-toggleable__content {max-height: 0;max-width: 0;overflow: hidden;text-align: left;background-color: #f0f8ff;}#sk-container-id-1 div.sk-toggleable__content pre {margin: 0.2em;color: black;border-radius: 0.25em;background-color: #f0f8ff;}#sk-container-id-1 input.sk-toggleable__control:checked~div.sk-toggleable__content {max-height: 200px;max-width: 100%;overflow: auto;}#sk-container-id-1 input.sk-toggleable__control:checked~label.sk-toggleable__label-arrow:before {content: \"▾\";}#sk-container-id-1 div.sk-estimator input.sk-toggleable__control:checked~label.sk-toggleable__label {background-color: #d4ebff;}#sk-container-id-1 div.sk-label input.sk-toggleable__control:checked~label.sk-toggleable__label {background-color: #d4ebff;}#sk-container-id-1 input.sk-hidden--visually {border: 0;clip: rect(1px 1px 1px 1px);clip: rect(1px, 1px, 1px, 1px);height: 1px;margin: -1px;overflow: hidden;padding: 0;position: absolute;width: 1px;}#sk-container-id-1 div.sk-estimator {font-family: monospace;background-color: #f0f8ff;border: 1px dotted black;border-radius: 0.25em;box-sizing: border-box;margin-bottom: 0.5em;}#sk-container-id-1 div.sk-estimator:hover {background-color: #d4ebff;}#sk-container-id-1 div.sk-parallel-item::after {content: \"\";width: 100%;border-bottom: 1px solid gray;flex-grow: 1;}#sk-container-id-1 div.sk-label:hover label.sk-toggleable__label {background-color: #d4ebff;}#sk-container-id-1 div.sk-serial::before {content: \"\";position: absolute;border-left: 1px solid gray;box-sizing: border-box;top: 0;bottom: 0;left: 50%;z-index: 0;}#sk-container-id-1 div.sk-serial {display: flex;flex-direction: column;align-items: center;background-color: white;padding-right: 0.2em;padding-left: 0.2em;position: relative;}#sk-container-id-1 div.sk-item {position: relative;z-index: 1;}#sk-container-id-1 div.sk-parallel {display: flex;align-items: stretch;justify-content: center;background-color: white;position: relative;}#sk-container-id-1 div.sk-item::before, #sk-container-id-1 div.sk-parallel-item::before {content: \"\";position: absolute;border-left: 1px solid gray;box-sizing: border-box;top: 0;bottom: 0;left: 50%;z-index: -1;}#sk-container-id-1 div.sk-parallel-item {display: flex;flex-direction: column;z-index: 1;position: relative;background-color: white;}#sk-container-id-1 div.sk-parallel-item:first-child::after {align-self: flex-end;width: 50%;}#sk-container-id-1 div.sk-parallel-item:last-child::after {align-self: flex-start;width: 50%;}#sk-container-id-1 div.sk-parallel-item:only-child::after {width: 0;}#sk-container-id-1 div.sk-dashed-wrapped {border: 1px dashed gray;margin: 0 0.4em 0.5em 0.4em;box-sizing: border-box;padding-bottom: 0.4em;background-color: white;}#sk-container-id-1 div.sk-label label {font-family: monospace;font-weight: bold;display: inline-block;line-height: 1.2em;}#sk-container-id-1 div.sk-label-container {text-align: center;}#sk-container-id-1 div.sk-container {/* jupyter's `normalize.less` sets `[hidden] { display: none; }` but bootstrap.min.css set `[hidden] { display: none !important; }` so we also need the `!important` here to be able to override the default hidden behavior on the sphinx rendered scikit-learn.org. See: https://github.com/scikit-learn/scikit-learn/issues/21755 */display: inline-block !important;position: relative;}#sk-container-id-1 div.sk-text-repr-fallback {display: none;}</style><div id=\"sk-container-id-1\" class=\"sk-top-container\"><div class=\"sk-text-repr-fallback\"><pre>XGBRegressor(base_score=None, booster=None, callbacks=None,\n",
       "             colsample_bylevel=None, colsample_bynode=None,\n",
       "             colsample_bytree=None, device=None, early_stopping_rounds=None,\n",
       "             enable_categorical=False, eval_metric=None, feature_types=None,\n",
       "             gamma=None, grow_policy=None, importance_type=None,\n",
       "             interaction_constraints=None, learning_rate=None, max_bin=None,\n",
       "             max_cat_threshold=None, max_cat_to_onehot=None,\n",
       "             max_delta_step=None, max_depth=None, max_leaves=None,\n",
       "             min_child_weight=None, missing=nan, monotone_constraints=None,\n",
       "             multi_strategy=None, n_estimators=None, n_jobs=None,\n",
       "             num_parallel_tree=None, random_state=None, ...)</pre><b>In a Jupyter environment, please rerun this cell to show the HTML representation or trust the notebook. <br />On GitHub, the HTML representation is unable to render, please try loading this page with nbviewer.org.</b></div><div class=\"sk-container\" hidden><div class=\"sk-item\"><div class=\"sk-estimator sk-toggleable\"><input class=\"sk-toggleable__control sk-hidden--visually\" id=\"sk-estimator-id-1\" type=\"checkbox\" checked><label for=\"sk-estimator-id-1\" class=\"sk-toggleable__label sk-toggleable__label-arrow\">XGBRegressor</label><div class=\"sk-toggleable__content\"><pre>XGBRegressor(base_score=None, booster=None, callbacks=None,\n",
       "             colsample_bylevel=None, colsample_bynode=None,\n",
       "             colsample_bytree=None, device=None, early_stopping_rounds=None,\n",
       "             enable_categorical=False, eval_metric=None, feature_types=None,\n",
       "             gamma=None, grow_policy=None, importance_type=None,\n",
       "             interaction_constraints=None, learning_rate=None, max_bin=None,\n",
       "             max_cat_threshold=None, max_cat_to_onehot=None,\n",
       "             max_delta_step=None, max_depth=None, max_leaves=None,\n",
       "             min_child_weight=None, missing=nan, monotone_constraints=None,\n",
       "             multi_strategy=None, n_estimators=None, n_jobs=None,\n",
       "             num_parallel_tree=None, random_state=None, ...)</pre></div></div></div></div></div>"
      ],
      "text/plain": [
       "XGBRegressor(base_score=None, booster=None, callbacks=None,\n",
       "             colsample_bylevel=None, colsample_bynode=None,\n",
       "             colsample_bytree=None, device=None, early_stopping_rounds=None,\n",
       "             enable_categorical=False, eval_metric=None, feature_types=None,\n",
       "             gamma=None, grow_policy=None, importance_type=None,\n",
       "             interaction_constraints=None, learning_rate=None, max_bin=None,\n",
       "             max_cat_threshold=None, max_cat_to_onehot=None,\n",
       "             max_delta_step=None, max_depth=None, max_leaves=None,\n",
       "             min_child_weight=None, missing=nan, monotone_constraints=None,\n",
       "             multi_strategy=None, n_estimators=None, n_jobs=None,\n",
       "             num_parallel_tree=None, random_state=None, ...)"
      ]
     },
     "execution_count": 62,
     "metadata": {},
     "output_type": "execute_result"
    }
   ],
   "source": [
    "lr = LinearRegression()\n",
    "lr.fit(X_train,y_train)\n",
    "\n",
    "rf = RandomForestRegressor()\n",
    "rf.fit(X_train,y_train)\n",
    "\n",
    "xgb = GradientBoostingRegressor()\n",
    "xgb.fit(X_train,y_train)\n",
    "\n",
    "xg = XGBRegressor()\n",
    "xg.fit(X_train,y_train)"
   ]
  },
  {
   "cell_type": "code",
   "execution_count": null,
   "metadata": {},
   "outputs": [],
   "source": []
  },
  {
   "cell_type": "markdown",
   "metadata": {},
   "source": [
    "### 12. Prediction on Test Data"
   ]
  },
  {
   "cell_type": "code",
   "execution_count": 63,
   "metadata": {},
   "outputs": [],
   "source": [
    "y_pred1 = lr.predict(X_test)\n",
    "y_pred2 = rf.predict(X_test)\n",
    "y_pred3 = xgb.predict(X_test)\n",
    "y_pred4 = xg.predict(X_test)"
   ]
  },
  {
   "cell_type": "markdown",
   "metadata": {},
   "source": [
    "### 13. Evaluating the Algorithm"
   ]
  },
  {
   "cell_type": "code",
   "execution_count": 64,
   "metadata": {},
   "outputs": [],
   "source": [
    "from sklearn import metrics"
   ]
  },
  {
   "cell_type": "code",
   "execution_count": 65,
   "metadata": {},
   "outputs": [],
   "source": [
    "score1 = metrics.r2_score(y_test,y_pred1)\n",
    "score2 = metrics.r2_score(y_test,y_pred2)\n",
    "score3 = metrics.r2_score(y_test,y_pred3)\n",
    "score4 = metrics.r2_score(y_test,y_pred4)"
   ]
  },
  {
   "cell_type": "code",
   "execution_count": 66,
   "metadata": {},
   "outputs": [
    {
     "name": "stdout",
     "output_type": "stream",
     "text": [
      "0.6719390374785104 0.9047809967327378 0.889800244884936 0.9066206394555052\n"
     ]
    }
   ],
   "source": [
    "print(score1,score2,score3,score4)"
   ]
  },
  {
   "cell_type": "code",
   "execution_count": 67,
   "metadata": {},
   "outputs": [],
   "source": [
    "final_data = pd.DataFrame({'Models':['LR','RF','GBR','XG'],\n",
    "             \"R2_SCORE\":[score1,score2,score3,score4]})"
   ]
  },
  {
   "cell_type": "code",
   "execution_count": 68,
   "metadata": {},
   "outputs": [
    {
     "data": {
      "text/html": [
       "<div>\n",
       "<style scoped>\n",
       "    .dataframe tbody tr th:only-of-type {\n",
       "        vertical-align: middle;\n",
       "    }\n",
       "\n",
       "    .dataframe tbody tr th {\n",
       "        vertical-align: top;\n",
       "    }\n",
       "\n",
       "    .dataframe thead th {\n",
       "        text-align: right;\n",
       "    }\n",
       "</style>\n",
       "<table border=\"1\" class=\"dataframe\">\n",
       "  <thead>\n",
       "    <tr style=\"text-align: right;\">\n",
       "      <th></th>\n",
       "      <th>Models</th>\n",
       "      <th>R2_SCORE</th>\n",
       "    </tr>\n",
       "  </thead>\n",
       "  <tbody>\n",
       "    <tr>\n",
       "      <th>0</th>\n",
       "      <td>LR</td>\n",
       "      <td>0.671939</td>\n",
       "    </tr>\n",
       "    <tr>\n",
       "      <th>1</th>\n",
       "      <td>RF</td>\n",
       "      <td>0.904781</td>\n",
       "    </tr>\n",
       "    <tr>\n",
       "      <th>2</th>\n",
       "      <td>GBR</td>\n",
       "      <td>0.889800</td>\n",
       "    </tr>\n",
       "    <tr>\n",
       "      <th>3</th>\n",
       "      <td>XG</td>\n",
       "      <td>0.906621</td>\n",
       "    </tr>\n",
       "  </tbody>\n",
       "</table>\n",
       "</div>"
      ],
      "text/plain": [
       "  Models  R2_SCORE\n",
       "0     LR  0.671939\n",
       "1     RF  0.904781\n",
       "2    GBR  0.889800\n",
       "3     XG  0.906621"
      ]
     },
     "execution_count": 68,
     "metadata": {},
     "output_type": "execute_result"
    }
   ],
   "source": [
    "final_data"
   ]
  },
  {
   "cell_type": "code",
   "execution_count": 69,
   "metadata": {},
   "outputs": [
    {
     "data": {
      "text/plain": [
       "<AxesSubplot:xlabel='Models', ylabel='R2_SCORE'>"
      ]
     },
     "execution_count": 69,
     "metadata": {},
     "output_type": "execute_result"
    },
    {
     "data": {
      "image/png": "[encoded data removed]",
      "text/plain": [
       "<Figure size 640x480 with 1 Axes>"
      ]
     },
     "metadata": {},
     "output_type": "display_data"
    }
   ],
   "source": [
    "sns.barplot(final_data['Models'],final_data['R2_SCORE'])"
   ]
  },
  {
   "cell_type": "markdown",
   "metadata": {},
   "source": [
    "### 14. Save The Model"
   ]
  },
  {
   "cell_type": "code",
   "execution_count": 70,
   "metadata": {},
   "outputs": [],
   "source": [
    "xg = XGBRegressor()\n",
    "xg_final = xg.fit(X,y)"
   ]
  },
  {
   "cell_type": "code",
   "execution_count": 71,
   "metadata": {},
   "outputs": [],
   "source": [
    "import joblib"
   ]
  },
  {
   "cell_type": "code",
   "execution_count": 72,
   "metadata": {},
   "outputs": [
    {
     "data": {
      "text/plain": [
       "['Used Car Price Prediction Using Machine Learning']"
      ]
     },
     "execution_count": 72,
     "metadata": {},
     "output_type": "execute_result"
    }
   ],
   "source": [
    "joblib.dump(xg_final,\"Used Car Price Prediction Using Machine Learning\")"
   ]
  },
  {
   "cell_type": "code",
   "execution_count": 73,
   "metadata": {},
   "outputs": [],
   "source": [
    "model = joblib.load(\"Used Car Price Prediction Using Machine Learning\")\n"
   ]
  },
  {
   "cell_type": "markdown",
   "metadata": {},
   "source": [
    "### 15. Prediction on New Data"
   ]
  },
  {
   "cell_type": "code",
   "execution_count": 74,
   "metadata": {},
   "outputs": [
    {
     "name": "stdout",
     "output_type": "stream",
     "text": [
      "   name  km_driven  fuel  seller_type  transmission  owner  mileage  engine   \n",
      "0     1      15000     1            1             1      1       19    1400  \\\n",
      "1     2      30000     2            2             2      2       19    1200   \n",
      "2     3      45000     3            3             1      2       15    1300   \n",
      "3     2      60000     1            4             2      2       20    2000   \n",
      "4     1      75000     2            1             1      3       10    1700   \n",
      "\n",
      "   max_power  seats  Age  \n",
      "0         80      5    3  \n",
      "1         90      5    4  \n",
      "2        100      5    2  \n",
      "3         85      5    5  \n",
      "4         30      5    1  \n"
     ]
    }
   ],
   "source": [
    "import pandas as pd\n",
    "\n",
    "data = {\n",
    "    'name': [1,2,3,2,1],\n",
    "    'km_driven': [15000, 30000, 45000, 60000, 75000],\n",
    "    'fuel': [1,2,3,1,2],\n",
    "    'seller_type': [1,2,3,4,1],\n",
    "    'transmission': [1,2,1,2,1],\n",
    "    'owner': [1,2,2,2,3],\n",
    "    'mileage': [19 ,19 ,15, 20,10],\n",
    "    'engine': [1400,1200,1300,2000,1700],\n",
    "    'max_power': [80,90,100,85,30],\n",
    "    'seats': [5, 5, 5, 5, 5],\n",
    "    'Age': [3, 4, 2, 5, 1]\n",
    "}\n",
    "\n",
    "df = pd.DataFrame(data)\n",
    "print(df)\n"
   ]
  },
  {
   "cell_type": "code",
   "execution_count": 75,
   "metadata": {},
   "outputs": [
    {
     "data": {
      "text/plain": [
       "array([790336.60666667, 729236.61666667, 723843.31333333, 750963.47      ,\n",
       "       639333.32333333])"
      ]
     },
     "execution_count": 75,
     "metadata": {},
     "output_type": "execute_result"
    }
   ],
   "source": [
    "rf.predict(df)"
   ]
  },
  {
   "cell_type": "code",
   "execution_count": null,
   "metadata": {},
   "outputs": [],
   "source": []
  },
  {
   "cell_type": "markdown",
   "metadata": {},
   "source": [
    "### GUI"
   ]
  },
  {
   "cell_type": "code",
   "execution_count": null,
   "metadata": {},
   "outputs": [],
   "source": [
    "from tkinter import *\n",
    "import joblib\n",
    "import pandas as pd\n",
    "\n",
    "def show_entry_fields():\n",
    "    name = e1.get()\n",
    "    km_driven = float(e2.get())\n",
    "    fuel = e3.get()\n",
    "    seller_type = e4.get()\n",
    "    transmission = e5.get()\n",
    "    owner = e6.get()\n",
    "    mileage = float(e7.get())\n",
    "    engine = float(e8.get())\n",
    "    max_power = float(e9.get())\n",
    "    seats = int(e10.get())\n",
    "    age = float(e11.get())\n",
    "    \n",
    "    model = joblib.load('Used Car Price Prediction Using Machine Learning')\n",
    "    data_new = pd.DataFrame({\n",
    "        'name': name,\n",
    "        'km_driven': km_driven,\n",
    "        'fuel': fuel,\n",
    "        'seller_type': seller_type,\n",
    "        'transmission': transmission,\n",
    "        'owner': owner,\n",
    "        'mileage': mileage,\n",
    "        'engine': engine,\n",
    "        'max_power': max_power,\n",
    "        'seats': seats,\n",
    "        'age': age\n",
    "    }, index=[0])\n",
    "    \n",
    "    result = model.predict(data_new)\n",
    "    \n",
    "    Label(master, text=\"Car Purchase amount\").grid(row=12)\n",
    "    Label(master, text=result).grid(row=13)\n",
    "    print(\"Car Purchase amount\", result[0])\n",
    "\n",
    "master = Tk()\n",
    "master.title(\"Car Price Prediction Using Machine Learning\")\n",
    "label = Label(master, text=\"Car Price Prediction Using Machine Learning\", bg=\"black\", fg=\"white\").grid(row=0, columnspan=2)\n",
    "\n",
    "Label(master, text=\"Name\").grid(row=1)\n",
    "Label(master, text=\"KM Driven\").grid(row=2)\n",
    "Label(master, text=\"Fuel\").grid(row=3)\n",
    "Label(master, text=\"Seller Type\").grid(row=4)\n",
    "Label(master, text=\"Transmission\").grid(row=5)\n",
    "Label(master, text=\"Owner\").grid(row=6)\n",
    "Label(master, text=\"Mileage\").grid(row=7)\n",
    "Label(master, text=\"Engine\").grid(row=8)\n",
    "Label(master, text=\"Max Power\").grid(row=9)\n",
    "Label(master, text=\"Seats\").grid(row=10)\n",
    "Label(master, text=\"Age\").grid(row=11)\n",
    "\n",
    "e1 = Entry(master)\n",
    "e2 = Entry(master)\n",
    "e3 = Entry(master)\n",
    "e4 = Entry(master)\n",
    "e5 = Entry(master)\n",
    "e6 = Entry(master)\n",
    "e7 = Entry(master)\n",
    "e8 = Entry(master)\n",
    "e9 = Entry(master)\n",
    "e10 = Entry(master)\n",
    "e11 = Entry(master)\n",
    "\n",
    "e1.grid(row=1, column=1)\n",
    "e2.grid(row=2, column=1)\n",
    "e3.grid(row=3, column=1)\n",
    "e4.grid(row=4, column=1)\n",
    "e5.grid(row=5, column=1)\n",
    "e6.grid(row=6, column=1)\n",
    "e7.grid(row=7, column=1)\n",
    "e8.grid(row=8, column=1)\n",
    "e9.grid(row=9, column=1)\n",
    "e10.grid(row=10, column=1)\n",
    "e11.grid(row=11, column=1)\n",
    "\n",
    "Button(master, text='Predict', command=show_entry_fields).grid(row=14, columnspan=2)\n",
    "\n",
    "mainloop()\n"
   ]
  },
  {
   "cell_type": "code",
   "execution_count": null,
   "metadata": {},
   "outputs": [],
   "source": []
  }
 ],
 "metadata": {
  "kernelspec": {
   "display_name": "Python 3 (ipykernel)",
   "language": "python",
   "name": "python3"
  },
  "language_info": {
   "codemirror_mode": {
    "name": "ipython",
    "version": 3
   },
   "file_extension": ".py",
   "mimetype": "text/x-python",
   "name": "python",
   "nbconvert_exporter": "python",
   "pygments_lexer": "ipython3",
   "version": "3.8.8"
  }
 },
 "nbformat": 4,
 "nbformat_minor": 4
}
